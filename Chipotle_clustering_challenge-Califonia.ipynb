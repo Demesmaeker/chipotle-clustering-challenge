{
 "cells": [
  {
   "cell_type": "markdown",
   "metadata": {},
   "source": [
    "# Chipotle clustering challenge\n",
    "\n",
    "- Repository: `clustering`\n",
    "- Type of Challenge: `Learning`\n",
    "- Duration: `1 day`\n",
    "- Deployment strategy :\n",
    "\t- Github page\n",
    "- Team challenge : `yes (max 4)`\n",
    "\t- visualization: 1\n",
    "\t- data analysis: 2\n",
    "\t- project management : 1\n",
    "\n",
    "## Learning Objectives \n",
    "\n",
    "- visualization: to be able to use geopandas, matplotlib (and seaborn) to visualize clustered data onto a map\n",
    "- data analysis: to be able to determine appropriate clustering methods and variables to cluster \n",
    "- data analysis: to evaluate the chosen clustering method in comparison to other methods \n",
    "- project managment: to be able to allot the right amount of time for the tasks and present the results onto a readable github page\n",
    "\n",
    "## The Mission\n",
    "\n",
    "<img src=\"https://media.giphy.com/media/l3vR4Fp4U1DhW8bhS/giphy.gif\" align=\"right\" width=\"450\"/>\n",
    "\n",
    ">\"Honey, where do you wanna eat?\"\n",
    ">\n",
    ">\"Do you even have to ask? Chipotle, of course!\"\n",
    ">\n",
    ">\"How could I forget, we've been eating chipotle for the last 47 days...\"\n",
    ">\n",
    ">\"So get ready for number 48! Oh I can't wait to stuff my face with a burrito!\"\n",
    ">\n",
    ">\"But the closest one is an hour drive away, couldn't we just get mcdonalds?\"\n",
    ">\n",
    ">\"How dare you utter that word in my presence? First the neighbours, now you!\"\n",
    ">\n",
    ">\"The neighbours? What do they have to d-\"\n",
    ">\n",
    ">\"That's it, we're moving, I can't deal with this anti-chipotle fascism.\"\n",
    "\n",
    "Find chipotle **epicentres** to live your ideal chipotle lifestyle by clustering the [chipotle](./assets/chipotle_locations.csv) dataset.\n",
    "\n",
    "### Must-have features\n",
    "\n",
    "- A visualisation of the USA with chipotle locations\n",
    "- Visualization of the different clusters\n",
    "- Intrinsic analysis comparison of the clusters of at least 2 methods with varying arguments (using euclidian distance as criteria)\n",
    "- A chosen centroid to live. Make your argument of why the chosen centroid is superior to others. Examples of arguments are:\n",
    "    - highest density\n",
    "    - greatest uninterrupted link of chipotle locations with smallest link-to-link distance\n",
    "    - ...\n",
    "- a Github page where results are visualized\n",
    "\n",
    "\n",
    "### Nice-to-have features\n",
    "\n",
    "- Colour coded cluster visualisation\n",
    "- Clear graph legends\n",
    "\n",
    "## Deliverables\n",
    "1. Publish your source code on the GitHub repository.\n",
    "2. Make a clear github page explaining your results and methods\n",
    "3. A chosen adress for the couple to live\n",
    "\n",
    "### Steps\n",
    "1. Create the repository\n",
    "2. Install geopandas\n",
    "3. Plot the [US map](https://jcutrer.com/python/learn-geopandas-plotting-usmaps)\n",
    "4. Visualize your data on this map\n",
    "5. Plot a [dendogram](https://scikit-learn.org/stable/auto_examples/cluster/plot_agglomerative_dendrogram.html) of your data to help you decide the appropropriate clustering resolution\n",
    "6. Compare and analyse different [clustering methods](https://scikit-learn.org/stable/modules/clustering.html) using intrinsic analysis to decide on a chosen method.\n",
    "7. Choose a centroid/adress to live\n",
    "8. Publish your results to a Github page with an explanation of your method.\n",
    "\n",
    "## Evaluation criterias\n",
    "| Criteria       | Indicator                                                                             | Yes/No |\n",
    "|----------------|---------------------------------------------------------------------------------------|--------|\n",
    "| 1. Is complete | The student has realized all must-have features.                                      |        |\n",
    "|                | There is a published GitHub page available showing the visualized results                                           |        | A US location has been selected an arguments for choosing it has been given\n",
    "|                | ...                               \t\t\t\t\t                                 |        |\n",
    "|                | ...                                                                                   |        |\n",
    "| 3. Is Correct  | All participants have contributed to the git repository\t\t\t\t\t\t\t\t\t\t                                         \t |        |\n",
    "|                | All data is visualised clearly and interpretably\t\t\t\t\t\t\t\t                                                     |        | The method and progress of the project is detailed in the git repository\n",
    "\n",
    "\n",
    "## A final note of encouragement\n",
    "\n",
    "\n",
    "![You've got this!](https://media.giphy.com/media/gJuZSbDxv0zLTMdafV/giphy.gif)\n"
   ]
  },
  {
   "cell_type": "code",
   "execution_count": 1,
   "metadata": {},
   "outputs": [],
   "source": [
    "import pandas as pd\n",
    "import seaborn as sns\n",
    "import matplotlib.pyplot as plt\n",
    "import plotly.express as px\n",
    "%matplotlib inline "
   ]
  },
  {
   "cell_type": "code",
   "execution_count": 2,
   "metadata": {},
   "outputs": [],
   "source": [
    "df = pd.read_csv('./assets/chipotle_stores.csv')"
   ]
  },
  {
   "cell_type": "code",
   "execution_count": 3,
   "metadata": {},
   "outputs": [
    {
     "data": {
      "text/html": [
       "<div>\n",
       "<style scoped>\n",
       "    .dataframe tbody tr th:only-of-type {\n",
       "        vertical-align: middle;\n",
       "    }\n",
       "\n",
       "    .dataframe tbody tr th {\n",
       "        vertical-align: top;\n",
       "    }\n",
       "\n",
       "    .dataframe thead th {\n",
       "        text-align: right;\n",
       "    }\n",
       "</style>\n",
       "<table border=\"1\" class=\"dataframe\">\n",
       "  <thead>\n",
       "    <tr style=\"text-align: right;\">\n",
       "      <th></th>\n",
       "      <th>state</th>\n",
       "      <th>location</th>\n",
       "      <th>address</th>\n",
       "      <th>latitude</th>\n",
       "      <th>longitude</th>\n",
       "    </tr>\n",
       "  </thead>\n",
       "  <tbody>\n",
       "    <tr>\n",
       "      <th>0</th>\n",
       "      <td>Alabama</td>\n",
       "      <td>Auburn</td>\n",
       "      <td>346 W Magnolia Ave Auburn, AL 36832 US</td>\n",
       "      <td>32.606813</td>\n",
       "      <td>-85.487328</td>\n",
       "    </tr>\n",
       "    <tr>\n",
       "      <th>1</th>\n",
       "      <td>Alabama</td>\n",
       "      <td>Birmingham</td>\n",
       "      <td>300 20th St S Birmingham, AL 35233 US</td>\n",
       "      <td>33.509721</td>\n",
       "      <td>-86.802756</td>\n",
       "    </tr>\n",
       "    <tr>\n",
       "      <th>2</th>\n",
       "      <td>Alabama</td>\n",
       "      <td>Birmingham</td>\n",
       "      <td>3220 Morrow Rd Birmingham, AL 35235 US</td>\n",
       "      <td>33.595581</td>\n",
       "      <td>-86.647437</td>\n",
       "    </tr>\n",
       "    <tr>\n",
       "      <th>3</th>\n",
       "      <td>Alabama</td>\n",
       "      <td>Birmingham</td>\n",
       "      <td>4719 Highway 280 Birmingham, AL 35242 US</td>\n",
       "      <td>33.422582</td>\n",
       "      <td>-86.698279</td>\n",
       "    </tr>\n",
       "    <tr>\n",
       "      <th>4</th>\n",
       "      <td>Alabama</td>\n",
       "      <td>Cullman</td>\n",
       "      <td>1821 Cherokee Ave SW Cullman, AL 35055 US</td>\n",
       "      <td>34.154134</td>\n",
       "      <td>-86.841220</td>\n",
       "    </tr>\n",
       "  </tbody>\n",
       "</table>\n",
       "</div>"
      ],
      "text/plain": [
       "     state    location                                    address   latitude  \\\n",
       "0  Alabama      Auburn     346 W Magnolia Ave Auburn, AL 36832 US  32.606813   \n",
       "1  Alabama  Birmingham      300 20th St S Birmingham, AL 35233 US  33.509721   \n",
       "2  Alabama  Birmingham     3220 Morrow Rd Birmingham, AL 35235 US  33.595581   \n",
       "3  Alabama  Birmingham   4719 Highway 280 Birmingham, AL 35242 US  33.422582   \n",
       "4  Alabama     Cullman  1821 Cherokee Ave SW Cullman, AL 35055 US  34.154134   \n",
       "\n",
       "   longitude  \n",
       "0 -85.487328  \n",
       "1 -86.802756  \n",
       "2 -86.647437  \n",
       "3 -86.698279  \n",
       "4 -86.841220  "
      ]
     },
     "execution_count": 3,
     "metadata": {},
     "output_type": "execute_result"
    }
   ],
   "source": [
    "df.head()"
   ]
  },
  {
   "cell_type": "code",
   "execution_count": 4,
   "metadata": {},
   "outputs": [
    {
     "data": {
      "text/plain": [
       "array(['Alabama', 'Arizona', 'Arkansas', 'California', 'Colorado',\n",
       "       'Connecticut', 'Delaware', 'Florida', 'Georgia', 'Idaho',\n",
       "       'Illinois', 'Indiana', 'Iowa', 'Kansas', 'Kentucky', 'Louisiana',\n",
       "       'Maine', 'Maryland', 'Massachusetts', 'Michigan', 'Minnesota',\n",
       "       'Mississippi', 'Missouri', 'Montana', 'Nebraska', 'Nevada',\n",
       "       'New Hampshire', 'New Jersey', 'New Mexico', 'New York',\n",
       "       'North Carolina', 'Ohio', 'Oklahoma', 'Oregon', 'Pennsylvania',\n",
       "       'Rhode Island', 'South Carolina', 'Tennessee', 'Texas', 'Utah',\n",
       "       'Vermont', 'Virginia', 'Washington', 'Washington DC',\n",
       "       'West Virginia', 'Wisconsin', 'North Dakota', 'Wyoming'],\n",
       "      dtype=object)"
      ]
     },
     "execution_count": 4,
     "metadata": {},
     "output_type": "execute_result"
    }
   ],
   "source": [
    "df.state.unique() "
   ]
  },
  {
   "cell_type": "code",
   "execution_count": 5,
   "metadata": {},
   "outputs": [
    {
     "data": {
      "text/plain": [
       "California        421\n",
       "Texas             226\n",
       "Ohio              193\n",
       "Florida           177\n",
       "New York          160\n",
       "Illinois          144\n",
       "Virginia          107\n",
       "Pennsylvania       96\n",
       "Maryland           94\n",
       "Arizona            85\n",
       "Colorado           79\n",
       "Minnesota          71\n",
       "New Jersey         69\n",
       "North Carolina     65\n",
       "Massachusetts      62\n",
       "Georgia            61\n",
       "Washington         43\n",
       "Indiana            40\n",
       "Michigan           39\n",
       "Missouri           39\n",
       "Oregon             32\n",
       "Kansas             30\n",
       "Nevada             29\n",
       "Tennessee          26\n",
       "Connecticut        24\n",
       "Washington DC      21\n",
       "South Carolina     21\n",
       "Kentucky           21\n",
       "Wisconsin          20\n",
       "Alabama            15\n",
       "Oklahoma           12\n",
       "Utah               11\n",
       "Nebraska           10\n",
       "Iowa               10\n",
       "Louisiana          10\n",
       "Rhode Island        9\n",
       "New Mexico          9\n",
       "Delaware            9\n",
       "New Hampshire       8\n",
       "Arkansas            6\n",
       "West Virginia       6\n",
       "Maine               5\n",
       "Idaho               4\n",
       "Montana             3\n",
       "North Dakota        2\n",
       "Vermont             2\n",
       "Mississippi         2\n",
       "Wyoming             1\n",
       "Name: state, dtype: int64"
      ]
     },
     "execution_count": 5,
     "metadata": {},
     "output_type": "execute_result"
    }
   ],
   "source": [
    "df['state'].value_counts()"
   ]
  },
  {
   "cell_type": "markdown",
   "metadata": {},
   "source": [
    "## Chose to live at Califonia"
   ]
  },
  {
   "cell_type": "code",
   "execution_count": 6,
   "metadata": {},
   "outputs": [],
   "source": [
    "from sklearn.cluster import KMeans\n",
    "from scipy.spatial.distance import cdist\n",
    "from sklearn import metrics\n",
    "from sklearn.metrics import silhouette_score\n",
    "import numpy as np"
   ]
  },
  {
   "cell_type": "code",
   "execution_count": 7,
   "metadata": {},
   "outputs": [],
   "source": [
    "filt = df.state =='California'\n",
    "\n",
    "df_ca = df[filt] "
   ]
  },
  {
   "cell_type": "code",
   "execution_count": 8,
   "metadata": {},
   "outputs": [],
   "source": [
    "df_ca.reset_index(inplace=True)"
   ]
  },
  {
   "cell_type": "code",
   "execution_count": 9,
   "metadata": {},
   "outputs": [],
   "source": [
    "df_ca = df_ca[['latitude', 'longitude']]"
   ]
  },
  {
   "cell_type": "code",
   "execution_count": 10,
   "metadata": {},
   "outputs": [
    {
     "data": {
      "text/html": [
       "<div>\n",
       "<style scoped>\n",
       "    .dataframe tbody tr th:only-of-type {\n",
       "        vertical-align: middle;\n",
       "    }\n",
       "\n",
       "    .dataframe tbody tr th {\n",
       "        vertical-align: top;\n",
       "    }\n",
       "\n",
       "    .dataframe thead th {\n",
       "        text-align: right;\n",
       "    }\n",
       "</style>\n",
       "<table border=\"1\" class=\"dataframe\">\n",
       "  <thead>\n",
       "    <tr style=\"text-align: right;\">\n",
       "      <th></th>\n",
       "      <th>latitude</th>\n",
       "      <th>longitude</th>\n",
       "    </tr>\n",
       "  </thead>\n",
       "  <tbody>\n",
       "    <tr>\n",
       "      <th>0</th>\n",
       "      <td>37.756121</td>\n",
       "      <td>-122.250114</td>\n",
       "    </tr>\n",
       "    <tr>\n",
       "      <th>1</th>\n",
       "      <td>37.786141</td>\n",
       "      <td>-122.281207</td>\n",
       "    </tr>\n",
       "    <tr>\n",
       "      <th>2</th>\n",
       "      <td>34.092555</td>\n",
       "      <td>-118.145842</td>\n",
       "    </tr>\n",
       "    <tr>\n",
       "      <th>3</th>\n",
       "      <td>33.576980</td>\n",
       "      <td>-117.725426</td>\n",
       "    </tr>\n",
       "    <tr>\n",
       "      <th>4</th>\n",
       "      <td>33.839580</td>\n",
       "      <td>-117.888675</td>\n",
       "    </tr>\n",
       "    <tr>\n",
       "      <th>...</th>\n",
       "      <td>...</td>\n",
       "      <td>...</td>\n",
       "    </tr>\n",
       "    <tr>\n",
       "      <th>416</th>\n",
       "      <td>33.941058</td>\n",
       "      <td>-118.046211</td>\n",
       "    </tr>\n",
       "    <tr>\n",
       "      <th>417</th>\n",
       "      <td>33.944400</td>\n",
       "      <td>-117.994826</td>\n",
       "    </tr>\n",
       "    <tr>\n",
       "      <th>418</th>\n",
       "      <td>34.169821</td>\n",
       "      <td>-118.605285</td>\n",
       "    </tr>\n",
       "    <tr>\n",
       "      <th>419</th>\n",
       "      <td>34.187712</td>\n",
       "      <td>-118.598003</td>\n",
       "    </tr>\n",
       "    <tr>\n",
       "      <th>420</th>\n",
       "      <td>39.142583</td>\n",
       "      <td>-121.629762</td>\n",
       "    </tr>\n",
       "  </tbody>\n",
       "</table>\n",
       "<p>421 rows × 2 columns</p>\n",
       "</div>"
      ],
      "text/plain": [
       "      latitude   longitude\n",
       "0    37.756121 -122.250114\n",
       "1    37.786141 -122.281207\n",
       "2    34.092555 -118.145842\n",
       "3    33.576980 -117.725426\n",
       "4    33.839580 -117.888675\n",
       "..         ...         ...\n",
       "416  33.941058 -118.046211\n",
       "417  33.944400 -117.994826\n",
       "418  34.169821 -118.605285\n",
       "419  34.187712 -118.598003\n",
       "420  39.142583 -121.629762\n",
       "\n",
       "[421 rows x 2 columns]"
      ]
     },
     "execution_count": 10,
     "metadata": {},
     "output_type": "execute_result"
    }
   ],
   "source": [
    "df_ca"
   ]
  },
  {
   "cell_type": "code",
   "execution_count": 11,
   "metadata": {},
   "outputs": [
    {
     "data": {
      "image/png": "[encoded data removed]",
      "text/plain": [
       "<Figure size 432x288 with 1 Axes>"
      ]
     },
     "metadata": {
      "needs_background": "light"
     },
     "output_type": "display_data"
    }
   ],
   "source": [
    "clusters = range(1,30)\n",
    "\n",
    "meanDistortions = []\n",
    "\n",
    "for k in clusters:\n",
    "    km = KMeans(n_clusters=k)\n",
    "    km.fit(df_ca)\n",
    "    predict=km.predict(df_ca)\n",
    "    meanDistortions.append(sum(np.min(cdist(df_ca,km.cluster_centers_, 'euclidean'), axis=1)) / \n",
    "                           df_ca.shape[0])\n",
    "\n",
    "plt.plot(clusters, meanDistortions, 'ro-')\n",
    "\n",
    "plt.title('Selecting k with the Elbow Method')\n",
    "\n",
    "plt.xlabel('k');\n",
    "\n",
    "plt.ylabel('Average distortion');"
   ]
  },
  {
   "cell_type": "code",
   "execution_count": 12,
   "metadata": {},
   "outputs": [],
   "source": [
    "# fit a kmeans object to the dataset\n",
    "kmeans = KMeans(n_clusters=5).fit(df_ca)  \n",
    "\n",
    "# clusters is an attribute of the object\n",
    "cluster_centers = kmeans.cluster_centers_\n",
    "\n",
    "# add cluster index to dataframe\n",
    "cluster_labels = pd.Series(kmeans.labels_, name='cluster')\n",
    "df_ca = df_ca.join(cluster_labels.to_frame())"
   ]
  },
  {
   "cell_type": "code",
   "execution_count": 13,
   "metadata": {},
   "outputs": [],
   "source": [
    "lat = []\n",
    "lon = []\n",
    "for i in cluster_centers:\n",
    "    lon.append(i[0])\n",
    "    lat.append(i[1])"
   ]
  },
  {
   "cell_type": "code",
   "execution_count": 14,
   "metadata": {},
   "outputs": [],
   "source": [
    "df_cluster = pd.DataFrame(lat,lon).reset_index()"
   ]
  },
  {
   "cell_type": "code",
   "execution_count": 15,
   "metadata": {},
   "outputs": [],
   "source": [
    "df_cluster.columns = ['lat', 'lon']"
   ]
  },
  {
   "cell_type": "code",
   "execution_count": 20,
   "metadata": {},
   "outputs": [
    {
     "data": {
      "application/vnd.plotly.v1+json": {
       "config": {
        "plotlyServerURL": "https://plot.ly"
       },
       "data": [
        {
         "hovertemplate": "<b>%{hovertext}</b><br><br>latitude=%{lat}<br>longitude=%{lon}<br>cluster=%{marker.color}<extra></extra>",
         "hovertext": [
          2,
          2,
          1,
          1,
          1,
          1,
          1,
          1,
          1,
          1,
          4,
          0,
          1,
          4,
          4,
          4,
          4,
          4,
          4,
          1,
          1,
          3,
          1,
          2,
          2,
          2,
          1,
          1,
          1,
          1,
          2,
          1,
          1,
          1,
          3,
          1,
          2,
          1,
          2,
          3,
          3,
          1,
          2,
          1,
          1,
          1,
          1,
          0,
          0,
          1,
          1,
          3,
          3,
          3,
          0,
          1,
          1,
          1,
          4,
          4,
          2,
          1,
          1,
          2,
          2,
          1,
          1,
          1,
          1,
          1,
          1,
          1,
          1,
          1,
          2,
          2,
          1,
          2,
          2,
          0,
          3,
          1,
          1,
          1,
          2,
          2,
          3,
          2,
          1,
          0,
          0,
          3,
          3,
          3,
          3,
          0,
          0,
          2,
          0,
          0,
          1,
          1,
          1,
          2,
          1,
          1,
          2,
          2,
          2,
          4,
          4,
          4,
          4,
          4,
          1,
          1,
          1,
          1,
          2,
          1,
          1,
          1,
          1,
          0,
          4,
          1,
          4,
          1,
          3,
          1,
          1,
          1,
          1,
          3,
          1,
          1,
          1,
          1,
          1,
          1,
          1,
          1,
          1,
          3,
          3,
          3,
          1,
          2,
          1,
          1,
          1,
          1,
          1,
          1,
          4,
          2,
          2,
          0,
          0,
          1,
          1,
          1,
          1,
          1,
          1,
          1,
          1,
          1,
          1,
          1,
          1,
          1,
          1,
          1,
          1,
          1,
          1,
          1,
          1,
          1,
          1,
          1,
          2,
          4,
          1,
          2,
          2,
          1,
          2,
          3,
          2,
          2,
          2,
          1,
          1,
          1,
          1,
          1,
          2,
          2,
          1,
          1,
          1,
          2,
          2,
          1,
          1,
          3,
          2,
          2,
          2,
          3,
          2,
          2,
          3,
          2,
          1,
          1,
          1,
          1,
          1,
          1,
          1,
          1,
          2,
          2,
          2,
          2,
          3,
          3,
          3,
          1,
          1,
          1,
          1,
          0,
          1,
          1,
          1,
          3,
          3,
          3,
          1,
          2,
          2,
          1,
          1,
          1,
          1,
          1,
          4,
          3,
          2,
          1,
          2,
          2,
          1,
          0,
          2,
          2,
          2,
          1,
          4,
          3,
          0,
          1,
          1,
          1,
          1,
          0,
          1,
          1,
          1,
          2,
          1,
          1,
          2,
          1,
          1,
          1,
          0,
          2,
          1,
          1,
          0,
          0,
          0,
          0,
          0,
          0,
          0,
          0,
          0,
          0,
          0,
          0,
          0,
          0,
          0,
          2,
          1,
          2,
          2,
          3,
          3,
          3,
          3,
          3,
          3,
          3,
          3,
          3,
          3,
          3,
          3,
          3,
          3,
          3,
          3,
          1,
          2,
          2,
          2,
          2,
          2,
          2,
          2,
          2,
          2,
          2,
          2,
          2,
          2,
          2,
          2,
          2,
          2,
          2,
          2,
          2,
          2,
          2,
          2,
          2,
          4,
          3,
          2,
          1,
          2,
          2,
          2,
          2,
          2,
          1,
          1,
          1,
          1,
          4,
          2,
          2,
          2,
          1,
          2,
          4,
          1,
          1,
          2,
          2,
          3,
          1,
          4,
          1,
          1,
          1,
          1,
          1,
          0,
          0,
          0,
          1,
          2,
          1,
          3,
          3,
          1,
          1,
          1,
          1,
          1,
          1,
          2,
          4,
          2,
          1,
          1,
          0,
          2,
          1,
          1,
          0,
          1,
          1,
          2,
          1,
          1,
          1,
          4,
          3,
          1,
          2,
          1,
          1,
          1,
          0,
          1,
          1,
          1,
          1,
          1,
          1,
          0
         ],
         "lat": [
          37.7561207,
          37.786141007761614,
          34.092555299999994,
          33.57698001431661,
          33.83957989941753,
          33.86056975099201,
          33.868027861305755,
          33.818638951126964,
          34.47069588108122,
          34.13572656223666,
          35.12017354508283,
          38.941200800261605,
          34.12814641664687,
          35.35212176910199,
          35.39223261450192,
          35.33770689999999,
          35.40116339582047,
          35.354530874548246,
          35.306521838937286,
          34.01328442374881,
          34.069396000000005,
          33.9238641,
          34.8528123628865,
          37.879393370779965,
          37.868873291219295,
          37.86838433691892,
          34.063323794483836,
          34.07132264504001,
          33.915677940492365,
          33.91179690220889,
          37.96126017826664,
          33.85831428190834,
          34.18195878665413,
          34.1516477,
          33.9232774,
          34.21725346260006,
          37.29088001186664,
          34.19,
          36.97793296544234,
          33.12805531775516,
          33.081846051416996,
          33.846571303188675,
          37.695348082920106,
          33.88592808196876,
          33.872791481596124,
          33.8619,
          34.237524151973574,
          39.72754269084902,
          39.73437615123794,
          34.03190485597059,
          34.0006695,
          32.64715651821109,
          32.631538330080154,
          32.646182,
          38.6720411,
          34.0219656,
          33.991186,
          34.079562,
          36.80816451357602,
          36.837102806014755,
          37.671192136135346,
          34.005728000000005,
          33.87653521836164,
          37.9768843,
          37.9369329,
          33.84761569537094,
          33.823651,
          33.6580777,
          33.66787924308129,
          33.629424900000004,
          34.007161815291546,
          33.9854146,
          33.98811135886199,
          34.0233754,
          37.31726503354268,
          37.33731505459836,
          33.8036646,
          37.7014805,
          37.82315928914039,
          38.5440526,
          32.981286594324196,
          34.020877575226734,
          33.9378076569092,
          33.922229044251125,
          37.70561684178781,
          37.70637316166656,
          32.794036199999994,
          37.89920809436757,
          33.9196429750764,
          38.40832,
          38.4231808,
          33.05221414764947,
          33.130322653305605,
          33.113014851997406,
          33.071038,
          40.7842726,
          38.66156367871051,
          38.261633262094044,
          38.6694922,
          38.645006275338716,
          34.0627057,
          34.1385361,
          33.67950658806537,
          37.562540203832256,
          33.714169899999995,
          33.68759248664302,
          37.55439779051461,
          37.51104648073672,
          37.50434624597707,
          36.78161964568193,
          36.809423820285076,
          36.8081309228704,
          36.8110901,
          36.85213062086552,
          33.859725096408425,
          33.874571303771816,
          33.788840752076446,
          33.873472344157946,
          37.00297748618978,
          34.145124,
          34.14745710452632,
          34.14795064352478,
          34.116364083478324,
          38.61703934520703,
          34.42917694680606,
          34.25774798768706,
          36.327476827217744,
          33.90123578697386,
          33.74715564751028,
          33.86533148472044,
          34.427957,
          33.726848923164056,
          33.68070597247496,
          32.583602564038,
          33.9307059,
          33.94656227495007,
          33.72352160975807,
          33.6854646,
          33.64954032113868,
          33.69833318594014,
          33.65076778673915,
          34.2035553021316,
          33.91679033475907,
          32.865734,
          32.77361313869,
          33.710716,
          34.11205096859536,
          37.89320838385394,
          33.56805089522741,
          33.492622600000004,
          33.63796530943036,
          33.618825783657925,
          33.854145981105354,
          34.675182,
          34.98650931128791,
          37.698463200000006,
          37.6990748,
          38.1167581,
          38.1007584,
          33.79012665654251,
          33.770147975849525,
          33.759875,
          34.058031,
          34.061058613094744,
          34.073700332765725,
          34.0543205,
          34.05350633181874,
          34.022681490352895,
          34.09734687431174,
          34.077145374346536,
          34.0764487,
          34.042015,
          34.062043200000005,
          34.016955555470794,
          34.0481825,
          34.138332433303944,
          34.06211334855455,
          34.04759612692327,
          33.9788835,
          34.08362649308188,
          34.0978471129027,
          34.07313567,
          37.23535350416661,
          36.974021941219185,
          34.036158,
          37.79631039976567,
          36.66588128255013,
          33.979174,
          37.994762435151145,
          33.68456530437326,
          37.31977990890728,
          37.596642874817725,
          37.41575562692226,
          33.97667219672287,
          34.25942,
          33.592456,
          33.559430658968246,
          33.557971492152284,
          37.67089836322028,
          37.68870917570512,
          34.13980863005088,
          34.08735747390883,
          34.018975299999994,
          36.58351079602785,
          36.59696784159582,
          34.03839617176134,
          34.278874,
          33.93697901084461,
          37.15120417259024,
          37.390652405377395,
          37.4218453291052,
          33.5683063848896,
          38.3212999,
          38.28588119085403,
          32.66055955059648,
          37.55115907630892,
          33.63897764137414,
          33.6152648852506,
          33.902656,
          34.18809,
          34.1661600822382,
          34.2346925,
          34.223551,
          34.23697270172239,
          38.10599116178466,
          37.81919,
          37.81076741599637,
          37.737940786182094,
          33.181893,
          33.205653064520334,
          33.245213451838396,
          34.073101,
          34.03373896280914,
          33.82580291158203,
          33.787170245544765,
          39.49757019320775,
          34.188414,
          34.2340585,
          34.046596,
          33.801446689642624,
          33.7281369,
          33.800772096449144,
          34.6023208,
          37.44481458900919,
          37.42387416998631,
          34.21576549591313,
          33.8895507,
          34.1462581,
          34.14161412024798,
          34.151687162182554,
          35.614783491487046,
          33.80745746473947,
          38.24360598292279,
          34.00121277753509,
          37.995844880693774,
          38.005543685158585,
          33.8875389,
          38.71319049321305,
          37.97882255642107,
          37.94583520000001,
          37.6589742,
          34.03369167184923,
          36.0808791,
          32.95490609620121,
          38.59431543959226,
          34.10618342316279,
          34.07764976353122,
          34.110306994392225,
          33.639114539934354,
          40.585336942860884,
          34.073994434860715,
          34.061169,
          33.821682621174155,
          37.4858199,
          34.0772722,
          34.13477400873257,
          37.711644005618155,
          33.90711401311614,
          33.955580299999994,
          33.8903167,
          38.80463574925882,
          38.34732644821982,
          33.7761393,
          34.07458922642114,
          38.77010543776368,
          38.74314520000001,
          38.7895085668169,
          38.5616545,
          38.59735987605298,
          38.57402706388792,
          38.5756165,
          38.655529569080045,
          38.6100294,
          38.638676094361614,
          38.537791095588325,
          38.66020923057192,
          38.557712,
          38.5806059,
          38.46504960000001,
          36.71701510032351,
          34.069252980682066,
          37.63720410000001,
          37.50220845635966,
          33.44339123209546,
          32.7150214,
          32.7679405,
          33.02013968053748,
          32.979771747918235,
          32.799715385310286,
          32.88780078187407,
          32.75119540858461,
          32.93772358950651,
          32.773947,
          32.820499457084594,
          32.76128861846487,
          32.831583765641234,
          32.74865863390252,
          32.9137603,
          32.8695554,
          34.28358071628897,
          37.78430291464379,
          37.73245288257204,
          37.7896709,
          37.78205287353228,
          37.7276457,
          37.7889155,
          37.7942596,
          37.79046409288761,
          37.78413352073621,
          37.33502373179572,
          37.3830937935385,
          37.249831730340034,
          37.314442,
          37.29292404334293,
          37.26219627621831,
          37.32615899084708,
          37.3312751,
          37.371147222180795,
          37.321716266020005,
          37.416196742396224,
          37.3505886,
          37.24865130878421,
          37.33190681788295,
          37.72336091000679,
          35.262614635093776,
          33.137033,
          37.544695792603406,
          33.751044,
          37.96956572128692,
          38.0042166,
          37.7616424,
          37.77515170504685,
          36.62262582038521,
          33.76036780466999,
          33.77336674902728,
          33.69835440817147,
          33.73867472818457,
          34.439503969029175,
          37.3520612,
          37.38089950475938,
          37.39480489533197,
          34.394448700000005,
          36.982613719479865,
          34.92132229700554,
          34.0177215,
          34.031985802324826,
          38.417914,
          38.458189,
          32.8410211,
          33.782980697390315,
          36.5770809467151,
          34.156895736770004,
          34.151536799999995,
          33.8119251213897,
          34.2841068,
          33.952512,
          38.94798660000001,
          38.054047,
          37.994668901660795,
          34.14355872066686,
          37.3677565,
          34.17039740108223,
          33.524088507564876,
          33.481129,
          34.104635951365104,
          34.1822146,
          34.191161891893024,
          33.834988127866936,
          33.8018953,
          33.83295,
          37.75546914528877,
          36.22621558670599,
          37.520645,
          33.74511975475779,
          33.712719,
          39.15164538001051,
          37.60245939031629,
          34.132357462973445,
          34.108382301763804,
          38.36690410069812,
          34.41791932165203,
          34.442657297289536,
          38.13695774353621,
          34.17231389842011,
          34.2643651,
          34.26674003395353,
          36.292363988344675,
          33.200884,
          34.02788976764153,
          37.8956359,
          33.9744431419157,
          34.0730989,
          34.071107299999994,
          38.5899901,
          34.15371791770557,
          33.759404167070336,
          33.941058210661204,
          33.94439989978713,
          34.16982121134922,
          34.187712,
          39.1425828
         ],
         "legendgroup": "",
         "lon": [
          -122.2501137,
          -122.28120659723874,
          -118.1458415,
          -117.72542602602846,
          -117.88867467392521,
          -117.79228294204808,
          -117.74815098742596,
          -117.94176801989964,
          -117.2457914536875,
          -118.04973664929628,
          -120.60171216458565,
          -121.09614846331169,
          -117.89157162822436,
          -119.11911787270184,
          -118.96794031141218,
          -119.0351604,
          -119.091834844792,
          -119.05705893741705,
          -119.09252875520805,
          -118.33662499830109,
          -117.97208,
          -116.94544270000002,
          -117.082796711455,
          -122.29632448178828,
          -122.26748664723871,
          -122.25895608037399,
          -118.39882933026638,
          -118.40356168956656,
          -117.8864340786871,
          -117.88205261146412,
          -121.74884971530331,
          -118.03057717907734,
          -118.31143974113995,
          -118.3433513,
          -116.8053387,
          -119.06555787396223,
          -121.93205873037395,
          -118.60255,
          -121.96629033430656,
          -117.27045117880392,
          -117.23594035921002,
          -118.26345516132488,
          -122.07682173834326,
          -118.1020101865082,
          -118.06421767787731,
          -118.092552,
          -118.5891350291506,
          -121.80506296936574,
          -121.83515019816492,
          -117.69030120491085,
          -117.7316068,
          -116.96557457182972,
          -117.0880960495063,
          -117.002625,
          -121.2720328,
          -117.9595935,
          -117.9246994,
          -117.719517,
          -119.6936528581836,
          -119.6829132847252,
          -122.46439892638864,
          -118.152961,
          -118.2178387895666,
          -122.0356178,
          -122.02482859999998,
          -117.54381688956663,
          -117.5165168,
          -117.9187307,
          -117.88292481349184,
          -117.9095438,
          -118.41262312546246,
          -118.3933069,
          -118.39300704814138,
          -118.3943383,
          -122.03278998505787,
          -122.03648371994059,
          -118.0124366,
          -122.48236866,
          -122.00409490062908,
          -121.7415034,
          -117.24979818185976,
          -117.81055878105349,
          -118.12955238646722,
          -118.13154774014572,
          -121.89083598834328,
          -121.92911820179428,
          -116.934819,
          -122.3023088717756,
          -118.39646644508913,
          -121.449308,
          -121.4155253,
          -117.2615561959602,
          -117.06659018800501,
          -117.10103903834325,
          -117.065973,
          -124.18361090000002,
          -121.22605489490637,
          -122.05847163374688,
          -121.1559255,
          -121.12336725425828,
          -117.4350364,
          -117.4413977,
          -117.66868187607479,
          -122.28064386932886,
          -117.9540216,
          -117.95451643741708,
          -121.98171172607478,
          -121.9407045100329,
          -121.97563680350912,
          -119.7900766214958,
          -119.87181903191185,
          -119.75344405147962,
          -119.8079561,
          -119.78899949694159,
          -117.9238282525704,
          -117.89017259877664,
          -117.96322514508915,
          -118.3088412521496,
          -121.55199715368748,
          -118.259326,
          -118.24634196073058,
          -118.25529353628349,
          -117.83563471440071,
          -121.26894929933836,
          -119.8694057122686,
          -118.5020815711813,
          -119.67329958895492,
          -118.37322521000648,
          -116.9975101082838,
          -118.39348661381166,
          -117.37835,
          -117.98969228282068,
          -118.00434687881872,
          -117.1154485898486,
          -118.3255833,
          -118.33218297298164,
          -117.77145642620678,
          -117.8111745,
          -117.83907287874548,
          -117.74094540918287,
          -117.74288414416293,
          -118.19775441532688,
          -117.95886346154207,
          -117.232143,
          -117.02695971336595,
          -116.2832098,
          -117.76224672293085,
          -122.11811986871719,
          -117.70855873098566,
          -117.6981154,
          -117.6806010030881,
          -117.70345915116064,
          -118.14194237629259,
          -118.1473502,
          -118.94631826994056,
          -121.8449893,
          -121.74167959999998,
          -121.30258290000002,
          -121.2671192,
          -118.13868055828381,
          -118.19266047015526,
          -118.114835,
          -118.419668,
          -118.44631431715572,
          -118.36094683888962,
          -118.2632069,
          -118.46487593252176,
          -118.4391796765184,
          -118.32636564723872,
          -118.26476045157145,
          -118.3239423,
          -118.25841,
          -118.290865,
          -118.28258402025507,
          -118.33601217,
          -118.21472379467069,
          -118.35019592271921,
          -118.25664718579831,
          -118.370701,
          -118.3443386895666,
          -118.35690521268083,
          -118.37276533,
          -121.96365672110028,
          -120.08301113121536,
          -118.684829,
          -121.19301733313456,
          -121.80972461674023,
          -118.4383297,
          -122.10585776070695,
          -117.17496204295696,
          -120.48614440335558,
          -122.38616887789247,
          -121.89755758631577,
          -117.55285768220905,
          -118.4665907,
          -117.660366,
          -117.67142648344976,
          -117.6689722662411,
          -120.9946327764062,
          -121.05397590868586,
          -118.01247076711643,
          -117.68910175613422,
          -118.1059054,
          -121.89678568496998,
          -121.89450361394216,
          -118.14455450980438,
          -118.8665098,
          -117.2618174240078,
          -121.65604422441992,
          -122.09440156430868,
          -122.09651837949751,
          -117.20468239847946,
          -122.3059614,
          -122.27434205735756,
          -117.1055656270026,
          -122.05144880393186,
          -117.8600891346731,
          -117.93063838245148,
          -117.561895,
          -118.41698999999998,
          -118.37501567104816,
          -118.5551529,
          -118.5019409,
          -118.53570619413168,
          -122.56960896073052,
          -122.26258500000002,
          -122.24476638808744,
          -122.19746573745556,
          -117.33164,
          -117.28861079569788,
          -117.29050765091336,
          -117.552031,
          -117.62892868773157,
          -117.83640855889551,
          -117.81656088159728,
          -121.57234387204487,
          -119.222122,
          -119.1786174,
          -118.524413,
          -116.38747067484036,
          -116.4030505,
          -116.52167565167817,
          -118.1503435,
          -122.16927148831822,
          -122.14306001409534,
          -118.4484124987124,
          -118.1598492,
          -118.1155796,
          -118.13191377852155,
          -118.08020075602523,
          -120.6833899971,
          -117.2265905485969,
          -122.62638934384842,
          -118.084295939847,
          -122.28616963049593,
          -121.83947117605857,
          -117.8627577,
          -120.84009296658495,
          -122.06682087194211,
          -122.0617206,
          -121.897972,
          -117.75679611288011,
          -119.04357749999998,
          -117.03890350249391,
          -121.28856367792721,
          -117.56885958219362,
          -117.55757129295696,
          -117.53548142270182,
          -117.59409620985576,
          -122.35400461331207,
          -117.20505341226843,
          -117.18282,
          -118.38514218711988,
          -122.2289647,
          -117.3708097,
          -117.36932463011198,
          -120.95793705694072,
          -117.4582640656414,
          -117.389443,
          -117.3242894,
          -121.20656128662053,
          -122.71012806688213,
          -118.37578909999998,
          -118.07220788252356,
          -121.26476193559931,
          -121.2274527,
          -121.28090681840268,
          -121.4918286,
          -121.4158702082838,
          -121.48275713189452,
          -121.4033345,
          -121.52395433636384,
          -121.3858099,
          -121.50498536258291,
          -121.49239254447129,
          -121.34704147761272,
          -121.43667859999998,
          -121.4986251,
          -121.4922938,
          -121.65393674938831,
          -117.26190170053064,
          -122.4172493,
          -122.24637262417464,
          -117.61372755729354,
          -117.1642958,
          -117.1531596,
          -117.11107023715459,
          -117.08269000307577,
          -117.24262253617752,
          -117.13142984785372,
          -117.20560606468264,
          -117.23012450267805,
          -117.070094,
          -117.1789808272982,
          -117.0666150433999,
          -117.16460263069126,
          -117.1577837220492,
          -117.1458472,
          -117.2154937,
          -118.44139870118244,
          -122.40361731532688,
          -122.48998301707606,
          -122.4039997,
          -122.44653641055487,
          -122.4765986,
          -122.3960781,
          -122.3974244,
          -122.39929950399244,
          -122.40694442249372,
          -121.89259345360108,
          -121.89675409783308,
          -121.87634604181228,
          -121.871406,
          -121.99117377852156,
          -121.93178962662428,
          -121.94394082015276,
          -121.8120879,
          -121.84490282047204,
          -121.95055006271471,
          -121.95498650248129,
          -121.9221827,
          -121.80287968553823,
          -121.9086599122678,
          -122.15393846504057,
          -120.6776980849703,
          -117.17627,
          -122.2914919827747,
          -118.307344,
          -122.5167520404928,
          -122.544202,
          -121.9626094,
          -121.97801796374807,
          -121.84366126380631,
          -117.88610817392521,
          -117.86701247985776,
          -117.88499861869984,
          -117.91965691960243,
          -119.749159864462,
          -121.9601808,
          -121.97446557423972,
          -121.946407394792,
          -118.462761,
          -122.02936357270187,
          -120.43301217177566,
          -118.4990088,
          -118.48289062822435,
          -122.712384,
          -122.730058,
          -116.9814123,
          -118.07234152637191,
          -119.63236487017956,
          -118.437300503608,
          -118.4536181,
          -118.18127129861408,
          -118.7753668,
          -118.1856175,
          -119.9580307,
          -121.374767,
          -121.31343740444308,
          -118.39770930372141,
          -122.036154,
          -118.54119355487137,
          -117.15898745674131,
          -117.096994,
          -118.07389619479198,
          -118.8849829,
          -118.9376642600124,
          -118.35280468949357,
          -118.3287984,
          -118.349293,
          -121.46494850107537,
          -119.32893804605007,
          -120.880929,
          -117.8146216464283,
          -117.817008,
          -123.19935967361069,
          -122.06906675183508,
          -117.63666496810549,
          -117.66990272822436,
          -121.96241685072005,
          -118.56143095337295,
          -118.5737745575242,
          -122.2150147826651,
          -118.44830875031454,
          -119.2126867,
          -119.2460874911045,
          -119.31439473346643,
          -117.244767,
          -117.83385521810551,
          -122.061034,
          -118.23350551717932,
          -117.8821127,
          -117.9327713,
          -121.549642,
          -118.79654041226877,
          -118.00757723282072,
          -118.04621113497028,
          -117.99482644846209,
          -118.60528527244793,
          -118.5980033,
          -121.6297616
         ],
         "marker": {
          "color": [
           2,
           2,
           1,
           1,
           1,
           1,
           1,
           1,
           1,
           1,
           4,
           0,
           1,
           4,
           4,
           4,
           4,
           4,
           4,
           1,
           1,
           3,
           1,
           2,
           2,
           2,
           1,
           1,
           1,
           1,
           2,
           1,
           1,
           1,
           3,
           1,
           2,
           1,
           2,
           3,
           3,
           1,
           2,
           1,
           1,
           1,
           1,
           0,
           0,
           1,
           1,
           3,
           3,
           3,
           0,
           1,
           1,
           1,
           4,
           4,
           2,
           1,
           1,
           2,
           2,
           1,
           1,
           1,
           1,
           1,
           1,
           1,
           1,
           1,
           2,
           2,
           1,
           2,
           2,
           0,
           3,
           1,
           1,
           1,
           2,
           2,
           3,
           2,
           1,
           0,
           0,
           3,
           3,
           3,
           3,
           0,
           0,
           2,
           0,
           0,
           1,
           1,
           1,
           2,
           1,
           1,
           2,
           2,
           2,
           4,
           4,
           4,
           4,
           4,
           1,
           1,
           1,
           1,
           2,
           1,
           1,
           1,
           1,
           0,
           4,
           1,
           4,
           1,
           3,
           1,
           1,
           1,
           1,
           3,
           1,
           1,
           1,
           1,
           1,
           1,
           1,
           1,
           1,
           3,
           3,
           3,
           1,
           2,
           1,
           1,
           1,
           1,
           1,
           1,
           4,
           2,
           2,
           0,
           0,
           1,
           1,
           1,
           1,
           1,
           1,
           1,
           1,
           1,
           1,
           1,
           1,
           1,
           1,
           1,
           1,
           1,
           1,
           1,
           1,
           1,
           1,
           1,
           2,
           4,
           1,
           2,
           2,
           1,
           2,
           3,
           2,
           2,
           2,
           1,
           1,
           1,
           1,
           1,
           2,
           2,
           1,
           1,
           1,
           2,
           2,
           1,
           1,
           3,
           2,
           2,
           2,
           3,
           2,
           2,
           3,
           2,
           1,
           1,
           1,
           1,
           1,
           1,
           1,
           1,
           2,
           2,
           2,
           2,
           3,
           3,
           3,
           1,
           1,
           1,
           1,
           0,
           1,
           1,
           1,
           3,
           3,
           3,
           1,
           2,
           2,
           1,
           1,
           1,
           1,
           1,
           4,
           3,
           2,
           1,
           2,
           2,
           1,
           0,
           2,
           2,
           2,
           1,
           4,
           3,
           0,
           1,
           1,
           1,
           1,
           0,
           1,
           1,
           1,
           2,
           1,
           1,
           2,
           1,
           1,
           1,
           0,
           2,
           1,
           1,
           0,
           0,
           0,
           0,
           0,
           0,
           0,
           0,
           0,
           0,
           0,
           0,
           0,
           0,
           0,
           2,
           1,
           2,
           2,
           3,
           3,
           3,
           3,
           3,
           3,
           3,
           3,
           3,
           3,
           3,
           3,
           3,
           3,
           3,
           3,
           1,
           2,
           2,
           2,
           2,
           2,
           2,
           2,
           2,
           2,
           2,
           2,
           2,
           2,
           2,
           2,
           2,
           2,
           2,
           2,
           2,
           2,
           2,
           2,
           2,
           4,
           3,
           2,
           1,
           2,
           2,
           2,
           2,
           2,
           1,
           1,
           1,
           1,
           4,
           2,
           2,
           2,
           1,
           2,
           4,
           1,
           1,
           2,
           2,
           3,
           1,
           4,
           1,
           1,
           1,
           1,
           1,
           0,
           0,
           0,
           1,
           2,
           1,
           3,
           3,
           1,
           1,
           1,
           1,
           1,
           1,
           2,
           4,
           2,
           1,
           1,
           0,
           2,
           1,
           1,
           0,
           1,
           1,
           2,
           1,
           1,
           1,
           4,
           3,
           1,
           2,
           1,
           1,
           1,
           0,
           1,
           1,
           1,
           1,
           1,
           1,
           0
          ],
          "coloraxis": "coloraxis"
         },
         "mode": "markers",
         "name": "",
         "showlegend": false,
         "subplot": "mapbox",
         "type": "scattermapbox"
        }
       ],
       "layout": {
        "coloraxis": {
         "colorbar": {
          "title": {
           "text": "cluster"
          }
         },
         "colorscale": [
          [
           0,
           "#0d0887"
          ],
          [
           0.1111111111111111,
           "#46039f"
          ],
          [
           0.2222222222222222,
           "#7201a8"
          ],
          [
           0.3333333333333333,
           "#9c179e"
          ],
          [
           0.4444444444444444,
           "#bd3786"
          ],
          [
           0.5555555555555556,
           "#d8576b"
          ],
          [
           0.6666666666666666,
           "#ed7953"
          ],
          [
           0.7777777777777778,
           "#fb9f3a"
          ],
          [
           0.8888888888888888,
           "#fdca26"
          ],
          [
           1,
           "#f0f921"
          ]
         ]
        },
        "height": 500,
        "legend": {
         "tracegroupgap": 0
        },
        "mapbox": {
         "center": {
          "lat": 35.37339586683051,
          "lon": -119.3856859661218
         },
         "domain": {
          "x": [
           0,
           1
          ],
          "y": [
           0,
           1
          ]
         },
         "style": "open-street-map",
         "zoom": 5
        },
        "margin": {
         "b": 0,
         "l": 0,
         "r": 0,
         "t": 0
        },
        "template": {
         "data": {
          "bar": [
           {
            "error_x": {
             "color": "#2a3f5f"
            },
            "error_y": {
             "color": "#2a3f5f"
            },
            "marker": {
             "line": {
              "color": "#E5ECF6",
              "width": 0.5
             }
            },
            "type": "bar"
           }
          ],
          "barpolar": [
           {
            "marker": {
             "line": {
              "color": "#E5ECF6",
              "width": 0.5
             }
            },
            "type": "barpolar"
           }
          ],
          "carpet": [
           {
            "aaxis": {
             "endlinecolor": "#2a3f5f",
             "gridcolor": "white",
             "linecolor": "white",
             "minorgridcolor": "white",
             "startlinecolor": "#2a3f5f"
            },
            "baxis": {
             "endlinecolor": "#2a3f5f",
             "gridcolor": "white",
             "linecolor": "white",
             "minorgridcolor": "white",
             "startlinecolor": "#2a3f5f"
            },
            "type": "carpet"
           }
          ],
          "choropleth": [
           {
            "colorbar": {
             "outlinewidth": 0,
             "ticks": ""
            },
            "type": "choropleth"
           }
          ],
          "contour": [
           {
            "colorbar": {
             "outlinewidth": 0,
             "ticks": ""
            },
            "colorscale": [
             [
              0,
              "#0d0887"
             ],
             [
              0.1111111111111111,
              "#46039f"
             ],
             [
              0.2222222222222222,
              "#7201a8"
             ],
             [
              0.3333333333333333,
              "#9c179e"
             ],
             [
              0.4444444444444444,
              "#bd3786"
             ],
             [
              0.5555555555555556,
              "#d8576b"
             ],
             [
              0.6666666666666666,
              "#ed7953"
             ],
             [
              0.7777777777777778,
              "#fb9f3a"
             ],
             [
              0.8888888888888888,
              "#fdca26"
             ],
             [
              1,
              "#f0f921"
             ]
            ],
            "type": "contour"
           }
          ],
          "contourcarpet": [
           {
            "colorbar": {
             "outlinewidth": 0,
             "ticks": ""
            },
            "type": "contourcarpet"
           }
          ],
          "heatmap": [
           {
            "colorbar": {
             "outlinewidth": 0,
             "ticks": ""
            },
            "colorscale": [
             [
              0,
              "#0d0887"
             ],
             [
              0.1111111111111111,
              "#46039f"
             ],
             [
              0.2222222222222222,
              "#7201a8"
             ],
             [
              0.3333333333333333,
              "#9c179e"
             ],
             [
              0.4444444444444444,
              "#bd3786"
             ],
             [
              0.5555555555555556,
              "#d8576b"
             ],
             [
              0.6666666666666666,
              "#ed7953"
             ],
             [
              0.7777777777777778,
              "#fb9f3a"
             ],
             [
              0.8888888888888888,
              "#fdca26"
             ],
             [
              1,
              "#f0f921"
             ]
            ],
            "type": "heatmap"
           }
          ],
          "heatmapgl": [
           {
            "colorbar": {
             "outlinewidth": 0,
             "ticks": ""
            },
            "colorscale": [
             [
              0,
              "#0d0887"
             ],
             [
              0.1111111111111111,
              "#46039f"
             ],
             [
              0.2222222222222222,
              "#7201a8"
             ],
             [
              0.3333333333333333,
              "#9c179e"
             ],
             [
              0.4444444444444444,
              "#bd3786"
             ],
             [
              0.5555555555555556,
              "#d8576b"
             ],
             [
              0.6666666666666666,
              "#ed7953"
             ],
             [
              0.7777777777777778,
              "#fb9f3a"
             ],
             [
              0.8888888888888888,
              "#fdca26"
             ],
             [
              1,
              "#f0f921"
             ]
            ],
            "type": "heatmapgl"
           }
          ],
          "histogram": [
           {
            "marker": {
             "colorbar": {
              "outlinewidth": 0,
              "ticks": ""
             }
            },
            "type": "histogram"
           }
          ],
          "histogram2d": [
           {
            "colorbar": {
             "outlinewidth": 0,
             "ticks": ""
            },
            "colorscale": [
             [
              0,
              "#0d0887"
             ],
             [
              0.1111111111111111,
              "#46039f"
             ],
             [
              0.2222222222222222,
              "#7201a8"
             ],
             [
              0.3333333333333333,
              "#9c179e"
             ],
             [
              0.4444444444444444,
              "#bd3786"
             ],
             [
              0.5555555555555556,
              "#d8576b"
             ],
             [
              0.6666666666666666,
              "#ed7953"
             ],
             [
              0.7777777777777778,
              "#fb9f3a"
             ],
             [
              0.8888888888888888,
              "#fdca26"
             ],
             [
              1,
              "#f0f921"
             ]
            ],
            "type": "histogram2d"
           }
          ],
          "histogram2dcontour": [
           {
            "colorbar": {
             "outlinewidth": 0,
             "ticks": ""
            },
            "colorscale": [
             [
              0,
              "#0d0887"
             ],
             [
              0.1111111111111111,
              "#46039f"
             ],
             [
              0.2222222222222222,
              "#7201a8"
             ],
             [
              0.3333333333333333,
              "#9c179e"
             ],
             [
              0.4444444444444444,
              "#bd3786"
             ],
             [
              0.5555555555555556,
              "#d8576b"
             ],
             [
              0.6666666666666666,
              "#ed7953"
             ],
             [
              0.7777777777777778,
              "#fb9f3a"
             ],
             [
              0.8888888888888888,
              "#fdca26"
             ],
             [
              1,
              "#f0f921"
             ]
            ],
            "type": "histogram2dcontour"
           }
          ],
          "mesh3d": [
           {
            "colorbar": {
             "outlinewidth": 0,
             "ticks": ""
            },
            "type": "mesh3d"
           }
          ],
          "parcoords": [
           {
            "line": {
             "colorbar": {
              "outlinewidth": 0,
              "ticks": ""
             }
            },
            "type": "parcoords"
           }
          ],
          "pie": [
           {
            "automargin": true,
            "type": "pie"
           }
          ],
          "scatter": [
           {
            "marker": {
             "colorbar": {
              "outlinewidth": 0,
              "ticks": ""
             }
            },
            "type": "scatter"
           }
          ],
          "scatter3d": [
           {
            "line": {
             "colorbar": {
              "outlinewidth": 0,
              "ticks": ""
             }
            },
            "marker": {
             "colorbar": {
              "outlinewidth": 0,
              "ticks": ""
             }
            },
            "type": "scatter3d"
           }
          ],
          "scattercarpet": [
           {
            "marker": {
             "colorbar": {
              "outlinewidth": 0,
              "ticks": ""
             }
            },
            "type": "scattercarpet"
           }
          ],
          "scattergeo": [
           {
            "marker": {
             "colorbar": {
              "outlinewidth": 0,
              "ticks": ""
             }
            },
            "type": "scattergeo"
           }
          ],
          "scattergl": [
           {
            "marker": {
             "colorbar": {
              "outlinewidth": 0,
              "ticks": ""
             }
            },
            "type": "scattergl"
           }
          ],
          "scattermapbox": [
           {
            "marker": {
             "colorbar": {
              "outlinewidth": 0,
              "ticks": ""
             }
            },
            "type": "scattermapbox"
           }
          ],
          "scatterpolar": [
           {
            "marker": {
             "colorbar": {
              "outlinewidth": 0,
              "ticks": ""
             }
            },
            "type": "scatterpolar"
           }
          ],
          "scatterpolargl": [
           {
            "marker": {
             "colorbar": {
              "outlinewidth": 0,
              "ticks": ""
             }
            },
            "type": "scatterpolargl"
           }
          ],
          "scatterternary": [
           {
            "marker": {
             "colorbar": {
              "outlinewidth": 0,
              "ticks": ""
             }
            },
            "type": "scatterternary"
           }
          ],
          "surface": [
           {
            "colorbar": {
             "outlinewidth": 0,
             "ticks": ""
            },
            "colorscale": [
             [
              0,
              "#0d0887"
             ],
             [
              0.1111111111111111,
              "#46039f"
             ],
             [
              0.2222222222222222,
              "#7201a8"
             ],
             [
              0.3333333333333333,
              "#9c179e"
             ],
             [
              0.4444444444444444,
              "#bd3786"
             ],
             [
              0.5555555555555556,
              "#d8576b"
             ],
             [
              0.6666666666666666,
              "#ed7953"
             ],
             [
              0.7777777777777778,
              "#fb9f3a"
             ],
             [
              0.8888888888888888,
              "#fdca26"
             ],
             [
              1,
              "#f0f921"
             ]
            ],
            "type": "surface"
           }
          ],
          "table": [
           {
            "cells": {
             "fill": {
              "color": "#EBF0F8"
             },
             "line": {
              "color": "white"
             }
            },
            "header": {
             "fill": {
              "color": "#C8D4E3"
             },
             "line": {
              "color": "white"
             }
            },
            "type": "table"
           }
          ]
         },
         "layout": {
          "annotationdefaults": {
           "arrowcolor": "#2a3f5f",
           "arrowhead": 0,
           "arrowwidth": 1
          },
          "coloraxis": {
           "colorbar": {
            "outlinewidth": 0,
            "ticks": ""
           }
          },
          "colorscale": {
           "diverging": [
            [
             0,
             "#8e0152"
            ],
            [
             0.1,
             "#c51b7d"
            ],
            [
             0.2,
             "#de77ae"
            ],
            [
             0.3,
             "#f1b6da"
            ],
            [
             0.4,
             "#fde0ef"
            ],
            [
             0.5,
             "#f7f7f7"
            ],
            [
             0.6,
             "#e6f5d0"
            ],
            [
             0.7,
             "#b8e186"
            ],
            [
             0.8,
             "#7fbc41"
            ],
            [
             0.9,
             "#4d9221"
            ],
            [
             1,
             "#276419"
            ]
           ],
           "sequential": [
            [
             0,
             "#0d0887"
            ],
            [
             0.1111111111111111,
             "#46039f"
            ],
            [
             0.2222222222222222,
             "#7201a8"
            ],
            [
             0.3333333333333333,
             "#9c179e"
            ],
            [
             0.4444444444444444,
             "#bd3786"
            ],
            [
             0.5555555555555556,
             "#d8576b"
            ],
            [
             0.6666666666666666,
             "#ed7953"
            ],
            [
             0.7777777777777778,
             "#fb9f3a"
            ],
            [
             0.8888888888888888,
             "#fdca26"
            ],
            [
             1,
             "#f0f921"
            ]
           ],
           "sequentialminus": [
            [
             0,
             "#0d0887"
            ],
            [
             0.1111111111111111,
             "#46039f"
            ],
            [
             0.2222222222222222,
             "#7201a8"
            ],
            [
             0.3333333333333333,
             "#9c179e"
            ],
            [
             0.4444444444444444,
             "#bd3786"
            ],
            [
             0.5555555555555556,
             "#d8576b"
            ],
            [
             0.6666666666666666,
             "#ed7953"
            ],
            [
             0.7777777777777778,
             "#fb9f3a"
            ],
            [
             0.8888888888888888,
             "#fdca26"
            ],
            [
             1,
             "#f0f921"
            ]
           ]
          },
          "colorway": [
           "#636efa",
           "#EF553B",
           "#00cc96",
           "#ab63fa",
           "#FFA15A",
           "#19d3f3",
           "#FF6692",
           "#B6E880",
           "#FF97FF",
           "#FECB52"
          ],
          "font": {
           "color": "#2a3f5f"
          },
          "geo": {
           "bgcolor": "white",
           "lakecolor": "white",
           "landcolor": "#E5ECF6",
           "showlakes": true,
           "showland": true,
           "subunitcolor": "white"
          },
          "hoverlabel": {
           "align": "left"
          },
          "hovermode": "closest",
          "mapbox": {
           "style": "light"
          },
          "paper_bgcolor": "white",
          "plot_bgcolor": "#E5ECF6",
          "polar": {
           "angularaxis": {
            "gridcolor": "white",
            "linecolor": "white",
            "ticks": ""
           },
           "bgcolor": "#E5ECF6",
           "radialaxis": {
            "gridcolor": "white",
            "linecolor": "white",
            "ticks": ""
           }
          },
          "scene": {
           "xaxis": {
            "backgroundcolor": "#E5ECF6",
            "gridcolor": "white",
            "gridwidth": 2,
            "linecolor": "white",
            "showbackground": true,
            "ticks": "",
            "zerolinecolor": "white"
           },
           "yaxis": {
            "backgroundcolor": "#E5ECF6",
            "gridcolor": "white",
            "gridwidth": 2,
            "linecolor": "white",
            "showbackground": true,
            "ticks": "",
            "zerolinecolor": "white"
           },
           "zaxis": {
            "backgroundcolor": "#E5ECF6",
            "gridcolor": "white",
            "gridwidth": 2,
            "linecolor": "white",
            "showbackground": true,
            "ticks": "",
            "zerolinecolor": "white"
           }
          },
          "shapedefaults": {
           "line": {
            "color": "#2a3f5f"
           }
          },
          "ternary": {
           "aaxis": {
            "gridcolor": "white",
            "linecolor": "white",
            "ticks": ""
           },
           "baxis": {
            "gridcolor": "white",
            "linecolor": "white",
            "ticks": ""
           },
           "bgcolor": "#E5ECF6",
           "caxis": {
            "gridcolor": "white",
            "linecolor": "white",
            "ticks": ""
           }
          },
          "title": {
           "x": 0.05
          },
          "xaxis": {
           "automargin": true,
           "gridcolor": "white",
           "linecolor": "white",
           "ticks": "",
           "title": {
            "standoff": 15
           },
           "zerolinecolor": "white",
           "zerolinewidth": 2
          },
          "yaxis": {
           "automargin": true,
           "gridcolor": "white",
           "linecolor": "white",
           "ticks": "",
           "title": {
            "standoff": 15
           },
           "zerolinecolor": "white",
           "zerolinewidth": 2
          }
         }
        }
       }
      },
      "text/html": [
       "<div>                            <div id=\"fedf48ec-467b-4f4f-aa5d-61eec5849e83\" class=\"plotly-graph-div\" style=\"height:500px; width:100%;\"></div>            <script type=\"text/javascript\">                require([\"plotly\"], function(Plotly) {                    window.PLOTLYENV=window.PLOTLYENV || {};                                    if (document.getElementById(\"fedf48ec-467b-4f4f-aa5d-61eec5849e83\")) {                    Plotly.newPlot(                        \"fedf48ec-467b-4f4f-aa5d-61eec5849e83\",                        [{\"hovertemplate\": \"<b>%{hovertext}</b><br><br>latitude=%{lat}<br>longitude=%{lon}<br>cluster=%{marker.color}<extra></extra>\", \"hovertext\": [2.0, 2.0, 1.0, 1.0, 1.0, 1.0, 1.0, 1.0, 1.0, 1.0, 4.0, 0.0, 1.0, 4.0, 4.0, 4.0, 4.0, 4.0, 4.0, 1.0, 1.0, 3.0, 1.0, 2.0, 2.0, 2.0, 1.0, 1.0, 1.0, 1.0, 2.0, 1.0, 1.0, 1.0, 3.0, 1.0, 2.0, 1.0, 2.0, 3.0, 3.0, 1.0, 2.0, 1.0, 1.0, 1.0, 1.0, 0.0, 0.0, 1.0, 1.0, 3.0, 3.0, 3.0, 0.0, 1.0, 1.0, 1.0, 4.0, 4.0, 2.0, 1.0, 1.0, 2.0, 2.0, 1.0, 1.0, 1.0, 1.0, 1.0, 1.0, 1.0, 1.0, 1.0, 2.0, 2.0, 1.0, 2.0, 2.0, 0.0, 3.0, 1.0, 1.0, 1.0, 2.0, 2.0, 3.0, 2.0, 1.0, 0.0, 0.0, 3.0, 3.0, 3.0, 3.0, 0.0, 0.0, 2.0, 0.0, 0.0, 1.0, 1.0, 1.0, 2.0, 1.0, 1.0, 2.0, 2.0, 2.0, 4.0, 4.0, 4.0, 4.0, 4.0, 1.0, 1.0, 1.0, 1.0, 2.0, 1.0, 1.0, 1.0, 1.0, 0.0, 4.0, 1.0, 4.0, 1.0, 3.0, 1.0, 1.0, 1.0, 1.0, 3.0, 1.0, 1.0, 1.0, 1.0, 1.0, 1.0, 1.0, 1.0, 1.0, 3.0, 3.0, 3.0, 1.0, 2.0, 1.0, 1.0, 1.0, 1.0, 1.0, 1.0, 4.0, 2.0, 2.0, 0.0, 0.0, 1.0, 1.0, 1.0, 1.0, 1.0, 1.0, 1.0, 1.0, 1.0, 1.0, 1.0, 1.0, 1.0, 1.0, 1.0, 1.0, 1.0, 1.0, 1.0, 1.0, 1.0, 1.0, 1.0, 2.0, 4.0, 1.0, 2.0, 2.0, 1.0, 2.0, 3.0, 2.0, 2.0, 2.0, 1.0, 1.0, 1.0, 1.0, 1.0, 2.0, 2.0, 1.0, 1.0, 1.0, 2.0, 2.0, 1.0, 1.0, 3.0, 2.0, 2.0, 2.0, 3.0, 2.0, 2.0, 3.0, 2.0, 1.0, 1.0, 1.0, 1.0, 1.0, 1.0, 1.0, 1.0, 2.0, 2.0, 2.0, 2.0, 3.0, 3.0, 3.0, 1.0, 1.0, 1.0, 1.0, 0.0, 1.0, 1.0, 1.0, 3.0, 3.0, 3.0, 1.0, 2.0, 2.0, 1.0, 1.0, 1.0, 1.0, 1.0, 4.0, 3.0, 2.0, 1.0, 2.0, 2.0, 1.0, 0.0, 2.0, 2.0, 2.0, 1.0, 4.0, 3.0, 0.0, 1.0, 1.0, 1.0, 1.0, 0.0, 1.0, 1.0, 1.0, 2.0, 1.0, 1.0, 2.0, 1.0, 1.0, 1.0, 0.0, 2.0, 1.0, 1.0, 0.0, 0.0, 0.0, 0.0, 0.0, 0.0, 0.0, 0.0, 0.0, 0.0, 0.0, 0.0, 0.0, 0.0, 0.0, 2.0, 1.0, 2.0, 2.0, 3.0, 3.0, 3.0, 3.0, 3.0, 3.0, 3.0, 3.0, 3.0, 3.0, 3.0, 3.0, 3.0, 3.0, 3.0, 3.0, 1.0, 2.0, 2.0, 2.0, 2.0, 2.0, 2.0, 2.0, 2.0, 2.0, 2.0, 2.0, 2.0, 2.0, 2.0, 2.0, 2.0, 2.0, 2.0, 2.0, 2.0, 2.0, 2.0, 2.0, 2.0, 4.0, 3.0, 2.0, 1.0, 2.0, 2.0, 2.0, 2.0, 2.0, 1.0, 1.0, 1.0, 1.0, 4.0, 2.0, 2.0, 2.0, 1.0, 2.0, 4.0, 1.0, 1.0, 2.0, 2.0, 3.0, 1.0, 4.0, 1.0, 1.0, 1.0, 1.0, 1.0, 0.0, 0.0, 0.0, 1.0, 2.0, 1.0, 3.0, 3.0, 1.0, 1.0, 1.0, 1.0, 1.0, 1.0, 2.0, 4.0, 2.0, 1.0, 1.0, 0.0, 2.0, 1.0, 1.0, 0.0, 1.0, 1.0, 2.0, 1.0, 1.0, 1.0, 4.0, 3.0, 1.0, 2.0, 1.0, 1.0, 1.0, 0.0, 1.0, 1.0, 1.0, 1.0, 1.0, 1.0, 0.0], \"lat\": [37.7561207, 37.786141007761614, 34.092555299999994, 33.57698001431661, 33.83957989941753, 33.86056975099201, 33.868027861305755, 33.818638951126964, 34.47069588108122, 34.13572656223666, 35.12017354508283, 38.941200800261605, 34.12814641664687, 35.35212176910199, 35.39223261450192, 35.33770689999999, 35.40116339582047, 35.354530874548246, 35.306521838937286, 34.01328442374881, 34.069396000000005, 33.9238641, 34.8528123628865, 37.879393370779965, 37.868873291219295, 37.86838433691892, 34.063323794483836, 34.07132264504001, 33.915677940492365, 33.91179690220889, 37.96126017826664, 33.85831428190834, 34.18195878665413, 34.1516477, 33.9232774, 34.21725346260006, 37.29088001186664, 34.19, 36.97793296544234, 33.12805531775516, 33.081846051416996, 33.846571303188675, 37.695348082920106, 33.88592808196876, 33.872791481596124, 33.8619, 34.237524151973574, 39.72754269084902, 39.73437615123794, 34.03190485597059, 34.0006695, 32.64715651821109, 32.631538330080154, 32.646182, 38.6720411, 34.0219656, 33.991186, 34.079562, 36.80816451357602, 36.837102806014755, 37.671192136135346, 34.005728000000005, 33.87653521836164, 37.9768843, 37.9369329, 33.84761569537094, 33.823651, 33.6580777, 33.66787924308129, 33.629424900000004, 34.007161815291546, 33.9854146, 33.98811135886199, 34.0233754, 37.31726503354268, 37.33731505459836, 33.8036646, 37.7014805, 37.82315928914039, 38.5440526, 32.981286594324196, 34.020877575226734, 33.9378076569092, 33.922229044251125, 37.70561684178781, 37.70637316166656, 32.794036199999994, 37.89920809436757, 33.9196429750764, 38.40832, 38.4231808, 33.05221414764947, 33.130322653305605, 33.113014851997406, 33.071038, 40.7842726, 38.66156367871051, 38.261633262094044, 38.6694922, 38.645006275338716, 34.0627057, 34.1385361, 33.67950658806537, 37.562540203832256, 33.714169899999995, 33.68759248664302, 37.55439779051461, 37.51104648073672, 37.50434624597707, 36.78161964568193, 36.809423820285076, 36.8081309228704, 36.8110901, 36.85213062086552, 33.859725096408425, 33.874571303771816, 33.788840752076446, 33.873472344157946, 37.00297748618978, 34.145124, 34.14745710452632, 34.14795064352478, 34.116364083478324, 38.61703934520703, 34.42917694680606, 34.25774798768706, 36.327476827217744, 33.90123578697386, 33.74715564751028, 33.86533148472044, 34.427957, 33.726848923164056, 33.68070597247496, 32.583602564038, 33.9307059, 33.94656227495007, 33.72352160975807, 33.6854646, 33.64954032113868, 33.69833318594014, 33.65076778673915, 34.2035553021316, 33.91679033475907, 32.865734, 32.77361313869, 33.710716, 34.11205096859536, 37.89320838385394, 33.56805089522741, 33.492622600000004, 33.63796530943036, 33.618825783657925, 33.854145981105354, 34.675182, 34.98650931128791, 37.698463200000006, 37.6990748, 38.1167581, 38.1007584, 33.79012665654251, 33.770147975849525, 33.759875, 34.058031, 34.061058613094744, 34.073700332765725, 34.0543205, 34.05350633181874, 34.022681490352895, 34.09734687431174, 34.077145374346536, 34.0764487, 34.042015, 34.062043200000005, 34.016955555470794, 34.0481825, 34.138332433303944, 34.06211334855455, 34.04759612692327, 33.9788835, 34.08362649308188, 34.0978471129027, 34.07313567, 37.23535350416661, 36.974021941219185, 34.036158, 37.79631039976567, 36.66588128255013, 33.979174, 37.994762435151145, 33.68456530437326, 37.31977990890728, 37.596642874817725, 37.41575562692226, 33.97667219672287, 34.25942, 33.592456, 33.559430658968246, 33.557971492152284, 37.67089836322028, 37.68870917570512, 34.13980863005088, 34.08735747390883, 34.018975299999994, 36.58351079602785, 36.59696784159582, 34.03839617176134, 34.278874, 33.93697901084461, 37.15120417259024, 37.390652405377395, 37.4218453291052, 33.5683063848896, 38.3212999, 38.28588119085403, 32.66055955059648, 37.55115907630892, 33.63897764137414, 33.6152648852506, 33.902656, 34.18809, 34.1661600822382, 34.2346925, 34.223551, 34.23697270172239, 38.10599116178466, 37.81919, 37.81076741599637, 37.737940786182094, 33.181893, 33.205653064520334, 33.245213451838396, 34.073101, 34.03373896280914, 33.82580291158203, 33.787170245544765, 39.49757019320775, 34.188414, 34.2340585, 34.046596, 33.801446689642624, 33.7281369, 33.800772096449144, 34.6023208, 37.44481458900919, 37.42387416998631, 34.21576549591313, 33.8895507, 34.1462581, 34.14161412024798, 34.151687162182554, 35.614783491487046, 33.80745746473947, 38.24360598292279, 34.00121277753509, 37.995844880693774, 38.005543685158585, 33.8875389, 38.71319049321305, 37.97882255642107, 37.94583520000001, 37.6589742, 34.03369167184923, 36.0808791, 32.95490609620121, 38.59431543959226, 34.10618342316279, 34.07764976353122, 34.110306994392225, 33.639114539934354, 40.585336942860884, 34.073994434860715, 34.061169, 33.821682621174155, 37.4858199, 34.0772722, 34.13477400873257, 37.711644005618155, 33.90711401311614, 33.955580299999994, 33.8903167, 38.80463574925882, 38.34732644821982, 33.7761393, 34.07458922642114, 38.77010543776368, 38.74314520000001, 38.7895085668169, 38.5616545, 38.59735987605298, 38.57402706388792, 38.5756165, 38.655529569080045, 38.6100294, 38.638676094361614, 38.537791095588325, 38.66020923057192, 38.557712, 38.5806059, 38.46504960000001, 36.71701510032351, 34.069252980682066, 37.63720410000001, 37.50220845635966, 33.44339123209546, 32.7150214, 32.7679405, 33.02013968053748, 32.979771747918235, 32.799715385310286, 32.88780078187407, 32.75119540858461, 32.93772358950651, 32.773947, 32.820499457084594, 32.76128861846487, 32.831583765641234, 32.74865863390252, 32.9137603, 32.8695554, 34.28358071628897, 37.78430291464379, 37.73245288257204, 37.7896709, 37.78205287353228, 37.7276457, 37.7889155, 37.7942596, 37.79046409288761, 37.78413352073621, 37.33502373179572, 37.3830937935385, 37.249831730340034, 37.314442, 37.29292404334293, 37.26219627621831, 37.32615899084708, 37.3312751, 37.371147222180795, 37.321716266020005, 37.416196742396224, 37.3505886, 37.24865130878421, 37.33190681788295, 37.72336091000679, 35.262614635093776, 33.137033, 37.544695792603406, 33.751044, 37.96956572128692, 38.0042166, 37.7616424, 37.77515170504685, 36.62262582038521, 33.76036780466999, 33.77336674902728, 33.69835440817147, 33.73867472818457, 34.439503969029175, 37.3520612, 37.38089950475938, 37.39480489533197, 34.394448700000005, 36.982613719479865, 34.92132229700554, 34.0177215, 34.031985802324826, 38.417914, 38.458189, 32.8410211, 33.782980697390315, 36.5770809467151, 34.156895736770004, 34.151536799999995, 33.8119251213897, 34.2841068, 33.952512, 38.94798660000001, 38.054047, 37.994668901660795, 34.14355872066686, 37.3677565, 34.17039740108223, 33.524088507564876, 33.481129, 34.104635951365104, 34.1822146, 34.191161891893024, 33.834988127866936, 33.8018953, 33.83295, 37.75546914528877, 36.22621558670599, 37.520645, 33.74511975475779, 33.712719, 39.15164538001051, 37.60245939031629, 34.132357462973445, 34.108382301763804, 38.36690410069812, 34.41791932165203, 34.442657297289536, 38.13695774353621, 34.17231389842011, 34.2643651, 34.26674003395353, 36.292363988344675, 33.200884, 34.02788976764153, 37.8956359, 33.9744431419157, 34.0730989, 34.071107299999994, 38.5899901, 34.15371791770557, 33.759404167070336, 33.941058210661204, 33.94439989978713, 34.16982121134922, 34.187712, 39.1425828], \"legendgroup\": \"\", \"lon\": [-122.2501137, -122.28120659723874, -118.1458415, -117.72542602602846, -117.88867467392521, -117.79228294204808, -117.74815098742596, -117.94176801989964, -117.2457914536875, -118.04973664929628, -120.60171216458565, -121.09614846331169, -117.89157162822436, -119.11911787270184, -118.96794031141218, -119.0351604, -119.091834844792, -119.05705893741705, -119.09252875520805, -118.33662499830109, -117.97208, -116.94544270000002, -117.082796711455, -122.29632448178828, -122.26748664723871, -122.25895608037399, -118.39882933026638, -118.40356168956656, -117.8864340786871, -117.88205261146412, -121.74884971530331, -118.03057717907734, -118.31143974113995, -118.3433513, -116.8053387, -119.06555787396223, -121.93205873037395, -118.60255, -121.96629033430656, -117.27045117880392, -117.23594035921002, -118.26345516132488, -122.07682173834326, -118.1020101865082, -118.06421767787731, -118.092552, -118.5891350291506, -121.80506296936574, -121.83515019816492, -117.69030120491085, -117.7316068, -116.96557457182972, -117.0880960495063, -117.002625, -121.2720328, -117.9595935, -117.9246994, -117.719517, -119.6936528581836, -119.6829132847252, -122.46439892638864, -118.152961, -118.2178387895666, -122.0356178, -122.02482859999998, -117.54381688956663, -117.5165168, -117.9187307, -117.88292481349184, -117.9095438, -118.41262312546246, -118.3933069, -118.39300704814138, -118.3943383, -122.03278998505787, -122.03648371994059, -118.0124366, -122.48236866, -122.00409490062908, -121.7415034, -117.24979818185976, -117.81055878105349, -118.12955238646722, -118.13154774014572, -121.89083598834328, -121.92911820179428, -116.934819, -122.3023088717756, -118.39646644508913, -121.449308, -121.4155253, -117.2615561959602, -117.06659018800501, -117.10103903834325, -117.065973, -124.18361090000002, -121.22605489490637, -122.05847163374688, -121.1559255, -121.12336725425828, -117.4350364, -117.4413977, -117.66868187607479, -122.28064386932886, -117.9540216, -117.95451643741708, -121.98171172607478, -121.9407045100329, -121.97563680350912, -119.7900766214958, -119.87181903191185, -119.75344405147962, -119.8079561, -119.78899949694159, -117.9238282525704, -117.89017259877664, -117.96322514508915, -118.3088412521496, -121.55199715368748, -118.259326, -118.24634196073058, -118.25529353628349, -117.83563471440071, -121.26894929933836, -119.8694057122686, -118.5020815711813, -119.67329958895492, -118.37322521000648, -116.9975101082838, -118.39348661381166, -117.37835, -117.98969228282068, -118.00434687881872, -117.1154485898486, -118.3255833, -118.33218297298164, -117.77145642620678, -117.8111745, -117.83907287874548, -117.74094540918287, -117.74288414416293, -118.19775441532688, -117.95886346154207, -117.232143, -117.02695971336595, -116.2832098, -117.76224672293085, -122.11811986871719, -117.70855873098566, -117.6981154, -117.6806010030881, -117.70345915116064, -118.14194237629259, -118.1473502, -118.94631826994056, -121.8449893, -121.74167959999998, -121.30258290000002, -121.2671192, -118.13868055828381, -118.19266047015526, -118.114835, -118.419668, -118.44631431715572, -118.36094683888962, -118.2632069, -118.46487593252176, -118.4391796765184, -118.32636564723872, -118.26476045157145, -118.3239423, -118.25841, -118.290865, -118.28258402025507, -118.33601217, -118.21472379467069, -118.35019592271921, -118.25664718579831, -118.370701, -118.3443386895666, -118.35690521268083, -118.37276533, -121.96365672110028, -120.08301113121536, -118.684829, -121.19301733313456, -121.80972461674023, -118.4383297, -122.10585776070695, -117.17496204295696, -120.48614440335558, -122.38616887789247, -121.89755758631577, -117.55285768220905, -118.4665907, -117.660366, -117.67142648344976, -117.6689722662411, -120.9946327764062, -121.05397590868586, -118.01247076711643, -117.68910175613422, -118.1059054, -121.89678568496998, -121.89450361394216, -118.14455450980438, -118.8665098, -117.2618174240078, -121.65604422441992, -122.09440156430868, -122.09651837949751, -117.20468239847946, -122.3059614, -122.27434205735756, -117.1055656270026, -122.05144880393186, -117.8600891346731, -117.93063838245148, -117.561895, -118.41698999999998, -118.37501567104816, -118.5551529, -118.5019409, -118.53570619413168, -122.56960896073052, -122.26258500000002, -122.24476638808744, -122.19746573745556, -117.33164, -117.28861079569788, -117.29050765091336, -117.552031, -117.62892868773157, -117.83640855889551, -117.81656088159728, -121.57234387204487, -119.222122, -119.1786174, -118.524413, -116.38747067484036, -116.4030505, -116.52167565167817, -118.1503435, -122.16927148831822, -122.14306001409534, -118.4484124987124, -118.1598492, -118.1155796, -118.13191377852155, -118.08020075602523, -120.6833899971, -117.2265905485969, -122.62638934384842, -118.084295939847, -122.28616963049593, -121.83947117605857, -117.8627577, -120.84009296658495, -122.06682087194211, -122.0617206, -121.897972, -117.75679611288011, -119.04357749999998, -117.03890350249391, -121.28856367792721, -117.56885958219362, -117.55757129295696, -117.53548142270182, -117.59409620985576, -122.35400461331207, -117.20505341226843, -117.18282, -118.38514218711988, -122.2289647, -117.3708097, -117.36932463011198, -120.95793705694072, -117.4582640656414, -117.389443, -117.3242894, -121.20656128662053, -122.71012806688213, -118.37578909999998, -118.07220788252356, -121.26476193559931, -121.2274527, -121.28090681840268, -121.4918286, -121.4158702082838, -121.48275713189452, -121.4033345, -121.52395433636384, -121.3858099, -121.50498536258291, -121.49239254447129, -121.34704147761272, -121.43667859999998, -121.4986251, -121.4922938, -121.65393674938831, -117.26190170053064, -122.4172493, -122.24637262417464, -117.61372755729354, -117.1642958, -117.1531596, -117.11107023715459, -117.08269000307577, -117.24262253617752, -117.13142984785372, -117.20560606468264, -117.23012450267805, -117.070094, -117.1789808272982, -117.0666150433999, -117.16460263069126, -117.1577837220492, -117.1458472, -117.2154937, -118.44139870118244, -122.40361731532688, -122.48998301707606, -122.4039997, -122.44653641055487, -122.4765986, -122.3960781, -122.3974244, -122.39929950399244, -122.40694442249372, -121.89259345360108, -121.89675409783308, -121.87634604181228, -121.871406, -121.99117377852156, -121.93178962662428, -121.94394082015276, -121.8120879, -121.84490282047204, -121.95055006271471, -121.95498650248129, -121.9221827, -121.80287968553823, -121.9086599122678, -122.15393846504057, -120.6776980849703, -117.17627, -122.2914919827747, -118.307344, -122.5167520404928, -122.544202, -121.9626094, -121.97801796374807, -121.84366126380631, -117.88610817392521, -117.86701247985776, -117.88499861869984, -117.91965691960243, -119.749159864462, -121.9601808, -121.97446557423972, -121.946407394792, -118.462761, -122.02936357270187, -120.43301217177566, -118.4990088, -118.48289062822435, -122.712384, -122.730058, -116.9814123, -118.07234152637191, -119.63236487017956, -118.437300503608, -118.4536181, -118.18127129861408, -118.7753668, -118.1856175, -119.9580307, -121.374767, -121.31343740444308, -118.39770930372141, -122.036154, -118.54119355487137, -117.15898745674131, -117.096994, -118.07389619479198, -118.8849829, -118.9376642600124, -118.35280468949357, -118.3287984, -118.349293, -121.46494850107537, -119.32893804605007, -120.880929, -117.8146216464283, -117.817008, -123.19935967361069, -122.06906675183508, -117.63666496810549, -117.66990272822436, -121.96241685072005, -118.56143095337295, -118.5737745575242, -122.2150147826651, -118.44830875031454, -119.2126867, -119.2460874911045, -119.31439473346643, -117.244767, -117.83385521810551, -122.061034, -118.23350551717932, -117.8821127, -117.9327713, -121.549642, -118.79654041226877, -118.00757723282072, -118.04621113497028, -117.99482644846209, -118.60528527244793, -118.5980033, -121.6297616], \"marker\": {\"color\": [2, 2, 1, 1, 1, 1, 1, 1, 1, 1, 4, 0, 1, 4, 4, 4, 4, 4, 4, 1, 1, 3, 1, 2, 2, 2, 1, 1, 1, 1, 2, 1, 1, 1, 3, 1, 2, 1, 2, 3, 3, 1, 2, 1, 1, 1, 1, 0, 0, 1, 1, 3, 3, 3, 0, 1, 1, 1, 4, 4, 2, 1, 1, 2, 2, 1, 1, 1, 1, 1, 1, 1, 1, 1, 2, 2, 1, 2, 2, 0, 3, 1, 1, 1, 2, 2, 3, 2, 1, 0, 0, 3, 3, 3, 3, 0, 0, 2, 0, 0, 1, 1, 1, 2, 1, 1, 2, 2, 2, 4, 4, 4, 4, 4, 1, 1, 1, 1, 2, 1, 1, 1, 1, 0, 4, 1, 4, 1, 3, 1, 1, 1, 1, 3, 1, 1, 1, 1, 1, 1, 1, 1, 1, 3, 3, 3, 1, 2, 1, 1, 1, 1, 1, 1, 4, 2, 2, 0, 0, 1, 1, 1, 1, 1, 1, 1, 1, 1, 1, 1, 1, 1, 1, 1, 1, 1, 1, 1, 1, 1, 1, 1, 2, 4, 1, 2, 2, 1, 2, 3, 2, 2, 2, 1, 1, 1, 1, 1, 2, 2, 1, 1, 1, 2, 2, 1, 1, 3, 2, 2, 2, 3, 2, 2, 3, 2, 1, 1, 1, 1, 1, 1, 1, 1, 2, 2, 2, 2, 3, 3, 3, 1, 1, 1, 1, 0, 1, 1, 1, 3, 3, 3, 1, 2, 2, 1, 1, 1, 1, 1, 4, 3, 2, 1, 2, 2, 1, 0, 2, 2, 2, 1, 4, 3, 0, 1, 1, 1, 1, 0, 1, 1, 1, 2, 1, 1, 2, 1, 1, 1, 0, 2, 1, 1, 0, 0, 0, 0, 0, 0, 0, 0, 0, 0, 0, 0, 0, 0, 0, 2, 1, 2, 2, 3, 3, 3, 3, 3, 3, 3, 3, 3, 3, 3, 3, 3, 3, 3, 3, 1, 2, 2, 2, 2, 2, 2, 2, 2, 2, 2, 2, 2, 2, 2, 2, 2, 2, 2, 2, 2, 2, 2, 2, 2, 4, 3, 2, 1, 2, 2, 2, 2, 2, 1, 1, 1, 1, 4, 2, 2, 2, 1, 2, 4, 1, 1, 2, 2, 3, 1, 4, 1, 1, 1, 1, 1, 0, 0, 0, 1, 2, 1, 3, 3, 1, 1, 1, 1, 1, 1, 2, 4, 2, 1, 1, 0, 2, 1, 1, 0, 1, 1, 2, 1, 1, 1, 4, 3, 1, 2, 1, 1, 1, 0, 1, 1, 1, 1, 1, 1, 0], \"coloraxis\": \"coloraxis\"}, \"mode\": \"markers\", \"name\": \"\", \"showlegend\": false, \"subplot\": \"mapbox\", \"type\": \"scattermapbox\"}],                        {\"coloraxis\": {\"colorbar\": {\"title\": {\"text\": \"cluster\"}}, \"colorscale\": [[0.0, \"#0d0887\"], [0.1111111111111111, \"#46039f\"], [0.2222222222222222, \"#7201a8\"], [0.3333333333333333, \"#9c179e\"], [0.4444444444444444, \"#bd3786\"], [0.5555555555555556, \"#d8576b\"], [0.6666666666666666, \"#ed7953\"], [0.7777777777777778, \"#fb9f3a\"], [0.8888888888888888, \"#fdca26\"], [1.0, \"#f0f921\"]]}, \"height\": 500, \"legend\": {\"tracegroupgap\": 0}, \"mapbox\": {\"center\": {\"lat\": 35.37339586683051, \"lon\": -119.3856859661218}, \"domain\": {\"x\": [0.0, 1.0], \"y\": [0.0, 1.0]}, \"style\": \"open-street-map\", \"zoom\": 5}, \"margin\": {\"b\": 0, \"l\": 0, \"r\": 0, \"t\": 0}, \"template\": {\"data\": {\"bar\": [{\"error_x\": {\"color\": \"#2a3f5f\"}, \"error_y\": {\"color\": \"#2a3f5f\"}, \"marker\": {\"line\": {\"color\": \"#E5ECF6\", \"width\": 0.5}}, \"type\": \"bar\"}], \"barpolar\": [{\"marker\": {\"line\": {\"color\": \"#E5ECF6\", \"width\": 0.5}}, \"type\": \"barpolar\"}], \"carpet\": [{\"aaxis\": {\"endlinecolor\": \"#2a3f5f\", \"gridcolor\": \"white\", \"linecolor\": \"white\", \"minorgridcolor\": \"white\", \"startlinecolor\": \"#2a3f5f\"}, \"baxis\": {\"endlinecolor\": \"#2a3f5f\", \"gridcolor\": \"white\", \"linecolor\": \"white\", \"minorgridcolor\": \"white\", \"startlinecolor\": \"#2a3f5f\"}, \"type\": \"carpet\"}], \"choropleth\": [{\"colorbar\": {\"outlinewidth\": 0, \"ticks\": \"\"}, \"type\": \"choropleth\"}], \"contour\": [{\"colorbar\": {\"outlinewidth\": 0, \"ticks\": \"\"}, \"colorscale\": [[0.0, \"#0d0887\"], [0.1111111111111111, \"#46039f\"], [0.2222222222222222, \"#7201a8\"], [0.3333333333333333, \"#9c179e\"], [0.4444444444444444, \"#bd3786\"], [0.5555555555555556, \"#d8576b\"], [0.6666666666666666, \"#ed7953\"], [0.7777777777777778, \"#fb9f3a\"], [0.8888888888888888, \"#fdca26\"], [1.0, \"#f0f921\"]], \"type\": \"contour\"}], \"contourcarpet\": [{\"colorbar\": {\"outlinewidth\": 0, \"ticks\": \"\"}, \"type\": \"contourcarpet\"}], \"heatmap\": [{\"colorbar\": {\"outlinewidth\": 0, \"ticks\": \"\"}, \"colorscale\": [[0.0, \"#0d0887\"], [0.1111111111111111, \"#46039f\"], [0.2222222222222222, \"#7201a8\"], [0.3333333333333333, \"#9c179e\"], [0.4444444444444444, \"#bd3786\"], [0.5555555555555556, \"#d8576b\"], [0.6666666666666666, \"#ed7953\"], [0.7777777777777778, \"#fb9f3a\"], [0.8888888888888888, \"#fdca26\"], [1.0, \"#f0f921\"]], \"type\": \"heatmap\"}], \"heatmapgl\": [{\"colorbar\": {\"outlinewidth\": 0, \"ticks\": \"\"}, \"colorscale\": [[0.0, \"#0d0887\"], [0.1111111111111111, \"#46039f\"], [0.2222222222222222, \"#7201a8\"], [0.3333333333333333, \"#9c179e\"], [0.4444444444444444, \"#bd3786\"], [0.5555555555555556, \"#d8576b\"], [0.6666666666666666, \"#ed7953\"], [0.7777777777777778, \"#fb9f3a\"], [0.8888888888888888, \"#fdca26\"], [1.0, \"#f0f921\"]], \"type\": \"heatmapgl\"}], \"histogram\": [{\"marker\": {\"colorbar\": {\"outlinewidth\": 0, \"ticks\": \"\"}}, \"type\": \"histogram\"}], \"histogram2d\": [{\"colorbar\": {\"outlinewidth\": 0, \"ticks\": \"\"}, \"colorscale\": [[0.0, \"#0d0887\"], [0.1111111111111111, \"#46039f\"], [0.2222222222222222, \"#7201a8\"], [0.3333333333333333, \"#9c179e\"], [0.4444444444444444, \"#bd3786\"], [0.5555555555555556, \"#d8576b\"], [0.6666666666666666, \"#ed7953\"], [0.7777777777777778, \"#fb9f3a\"], [0.8888888888888888, \"#fdca26\"], [1.0, \"#f0f921\"]], \"type\": \"histogram2d\"}], \"histogram2dcontour\": [{\"colorbar\": {\"outlinewidth\": 0, \"ticks\": \"\"}, \"colorscale\": [[0.0, \"#0d0887\"], [0.1111111111111111, \"#46039f\"], [0.2222222222222222, \"#7201a8\"], [0.3333333333333333, \"#9c179e\"], [0.4444444444444444, \"#bd3786\"], [0.5555555555555556, \"#d8576b\"], [0.6666666666666666, \"#ed7953\"], [0.7777777777777778, \"#fb9f3a\"], [0.8888888888888888, \"#fdca26\"], [1.0, \"#f0f921\"]], \"type\": \"histogram2dcontour\"}], \"mesh3d\": [{\"colorbar\": {\"outlinewidth\": 0, \"ticks\": \"\"}, \"type\": \"mesh3d\"}], \"parcoords\": [{\"line\": {\"colorbar\": {\"outlinewidth\": 0, \"ticks\": \"\"}}, \"type\": \"parcoords\"}], \"pie\": [{\"automargin\": true, \"type\": \"pie\"}], \"scatter\": [{\"marker\": {\"colorbar\": {\"outlinewidth\": 0, \"ticks\": \"\"}}, \"type\": \"scatter\"}], \"scatter3d\": [{\"line\": {\"colorbar\": {\"outlinewidth\": 0, \"ticks\": \"\"}}, \"marker\": {\"colorbar\": {\"outlinewidth\": 0, \"ticks\": \"\"}}, \"type\": \"scatter3d\"}], \"scattercarpet\": [{\"marker\": {\"colorbar\": {\"outlinewidth\": 0, \"ticks\": \"\"}}, \"type\": \"scattercarpet\"}], \"scattergeo\": [{\"marker\": {\"colorbar\": {\"outlinewidth\": 0, \"ticks\": \"\"}}, \"type\": \"scattergeo\"}], \"scattergl\": [{\"marker\": {\"colorbar\": {\"outlinewidth\": 0, \"ticks\": \"\"}}, \"type\": \"scattergl\"}], \"scattermapbox\": [{\"marker\": {\"colorbar\": {\"outlinewidth\": 0, \"ticks\": \"\"}}, \"type\": \"scattermapbox\"}], \"scatterpolar\": [{\"marker\": {\"colorbar\": {\"outlinewidth\": 0, \"ticks\": \"\"}}, \"type\": \"scatterpolar\"}], \"scatterpolargl\": [{\"marker\": {\"colorbar\": {\"outlinewidth\": 0, \"ticks\": \"\"}}, \"type\": \"scatterpolargl\"}], \"scatterternary\": [{\"marker\": {\"colorbar\": {\"outlinewidth\": 0, \"ticks\": \"\"}}, \"type\": \"scatterternary\"}], \"surface\": [{\"colorbar\": {\"outlinewidth\": 0, \"ticks\": \"\"}, \"colorscale\": [[0.0, \"#0d0887\"], [0.1111111111111111, \"#46039f\"], [0.2222222222222222, \"#7201a8\"], [0.3333333333333333, \"#9c179e\"], [0.4444444444444444, \"#bd3786\"], [0.5555555555555556, \"#d8576b\"], [0.6666666666666666, \"#ed7953\"], [0.7777777777777778, \"#fb9f3a\"], [0.8888888888888888, \"#fdca26\"], [1.0, \"#f0f921\"]], \"type\": \"surface\"}], \"table\": [{\"cells\": {\"fill\": {\"color\": \"#EBF0F8\"}, \"line\": {\"color\": \"white\"}}, \"header\": {\"fill\": {\"color\": \"#C8D4E3\"}, \"line\": {\"color\": \"white\"}}, \"type\": \"table\"}]}, \"layout\": {\"annotationdefaults\": {\"arrowcolor\": \"#2a3f5f\", \"arrowhead\": 0, \"arrowwidth\": 1}, \"coloraxis\": {\"colorbar\": {\"outlinewidth\": 0, \"ticks\": \"\"}}, \"colorscale\": {\"diverging\": [[0, \"#8e0152\"], [0.1, \"#c51b7d\"], [0.2, \"#de77ae\"], [0.3, \"#f1b6da\"], [0.4, \"#fde0ef\"], [0.5, \"#f7f7f7\"], [0.6, \"#e6f5d0\"], [0.7, \"#b8e186\"], [0.8, \"#7fbc41\"], [0.9, \"#4d9221\"], [1, \"#276419\"]], \"sequential\": [[0.0, \"#0d0887\"], [0.1111111111111111, \"#46039f\"], [0.2222222222222222, \"#7201a8\"], [0.3333333333333333, \"#9c179e\"], [0.4444444444444444, \"#bd3786\"], [0.5555555555555556, \"#d8576b\"], [0.6666666666666666, \"#ed7953\"], [0.7777777777777778, \"#fb9f3a\"], [0.8888888888888888, \"#fdca26\"], [1.0, \"#f0f921\"]], \"sequentialminus\": [[0.0, \"#0d0887\"], [0.1111111111111111, \"#46039f\"], [0.2222222222222222, \"#7201a8\"], [0.3333333333333333, \"#9c179e\"], [0.4444444444444444, \"#bd3786\"], [0.5555555555555556, \"#d8576b\"], [0.6666666666666666, \"#ed7953\"], [0.7777777777777778, \"#fb9f3a\"], [0.8888888888888888, \"#fdca26\"], [1.0, \"#f0f921\"]]}, \"colorway\": [\"#636efa\", \"#EF553B\", \"#00cc96\", \"#ab63fa\", \"#FFA15A\", \"#19d3f3\", \"#FF6692\", \"#B6E880\", \"#FF97FF\", \"#FECB52\"], \"font\": {\"color\": \"#2a3f5f\"}, \"geo\": {\"bgcolor\": \"white\", \"lakecolor\": \"white\", \"landcolor\": \"#E5ECF6\", \"showlakes\": true, \"showland\": true, \"subunitcolor\": \"white\"}, \"hoverlabel\": {\"align\": \"left\"}, \"hovermode\": \"closest\", \"mapbox\": {\"style\": \"light\"}, \"paper_bgcolor\": \"white\", \"plot_bgcolor\": \"#E5ECF6\", \"polar\": {\"angularaxis\": {\"gridcolor\": \"white\", \"linecolor\": \"white\", \"ticks\": \"\"}, \"bgcolor\": \"#E5ECF6\", \"radialaxis\": {\"gridcolor\": \"white\", \"linecolor\": \"white\", \"ticks\": \"\"}}, \"scene\": {\"xaxis\": {\"backgroundcolor\": \"#E5ECF6\", \"gridcolor\": \"white\", \"gridwidth\": 2, \"linecolor\": \"white\", \"showbackground\": true, \"ticks\": \"\", \"zerolinecolor\": \"white\"}, \"yaxis\": {\"backgroundcolor\": \"#E5ECF6\", \"gridcolor\": \"white\", \"gridwidth\": 2, \"linecolor\": \"white\", \"showbackground\": true, \"ticks\": \"\", \"zerolinecolor\": \"white\"}, \"zaxis\": {\"backgroundcolor\": \"#E5ECF6\", \"gridcolor\": \"white\", \"gridwidth\": 2, \"linecolor\": \"white\", \"showbackground\": true, \"ticks\": \"\", \"zerolinecolor\": \"white\"}}, \"shapedefaults\": {\"line\": {\"color\": \"#2a3f5f\"}}, \"ternary\": {\"aaxis\": {\"gridcolor\": \"white\", \"linecolor\": \"white\", \"ticks\": \"\"}, \"baxis\": {\"gridcolor\": \"white\", \"linecolor\": \"white\", \"ticks\": \"\"}, \"bgcolor\": \"#E5ECF6\", \"caxis\": {\"gridcolor\": \"white\", \"linecolor\": \"white\", \"ticks\": \"\"}}, \"title\": {\"x\": 0.05}, \"xaxis\": {\"automargin\": true, \"gridcolor\": \"white\", \"linecolor\": \"white\", \"ticks\": \"\", \"title\": {\"standoff\": 15}, \"zerolinecolor\": \"white\", \"zerolinewidth\": 2}, \"yaxis\": {\"automargin\": true, \"gridcolor\": \"white\", \"linecolor\": \"white\", \"ticks\": \"\", \"title\": {\"standoff\": 15}, \"zerolinecolor\": \"white\", \"zerolinewidth\": 2}}}},                        {\"responsive\": true}                    ).then(function(){\n",
       "                            \n",
       "var gd = document.getElementById('fedf48ec-467b-4f4f-aa5d-61eec5849e83');\n",
       "var x = new MutationObserver(function (mutations, observer) {{\n",
       "        var display = window.getComputedStyle(gd).display;\n",
       "        if (!display || display === 'none') {{\n",
       "            console.log([gd, 'removed!']);\n",
       "            Plotly.purge(gd);\n",
       "            observer.disconnect();\n",
       "        }}\n",
       "}});\n",
       "\n",
       "// Listen for the removal of the full notebook cells\n",
       "var notebookContainer = gd.closest('#notebook-container');\n",
       "if (notebookContainer) {{\n",
       "    x.observe(notebookContainer, {childList: true});\n",
       "}}\n",
       "\n",
       "// Listen for the clearing of the current output cell\n",
       "var outputEl = gd.closest('.output');\n",
       "if (outputEl) {{\n",
       "    x.observe(outputEl, {childList: true});\n",
       "}}\n",
       "\n",
       "                        })                };                });            </script>        </div>"
      ]
     },
     "metadata": {},
     "output_type": "display_data"
    }
   ],
   "source": [
    "fig_px = px.scatter_mapbox(df_ca, lat=\"latitude\", lon=\"longitude\",color=\"cluster\",hover_name=\"cluster\", zoom=5, height=500)\n",
    "\n",
    "fig_px.update_layout(mapbox_style=\"open-street-map\",margin={\"r\":0,\"t\":0,\"l\":0,\"b\":0})\n",
    "\n",
    "fig_px.show()"
   ]
  },
  {
   "cell_type": "code",
   "execution_count": 17,
   "metadata": {},
   "outputs": [
    {
     "data": {
      "application/vnd.plotly.v1+json": {
       "config": {
        "plotlyServerURL": "https://plot.ly"
       },
       "data": [
        {
         "hovertemplate": "lat=%{lat}<br>lon=%{lon}<extra></extra>",
         "lat": [
          38.77574386527391,
          33.992026295083605,
          37.61221144368681,
          33.129150804658,
          35.888617784930716
         ],
         "legendgroup": "",
         "lon": [
          -121.5034150180444,
          -118.09677510679623,
          -122.04101860885535,
          -117.08777580825058,
          -119.64572248850915
         ],
         "marker": {
          "color": "#636efa"
         },
         "mode": "markers",
         "name": "",
         "showlegend": false,
         "subplot": "mapbox",
         "type": "scattermapbox"
        }
       ],
       "layout": {
        "height": 500,
        "legend": {
         "tracegroupgap": 0
        },
        "mapbox": {
         "center": {
          "lat": 35.879550038726606,
          "lon": -119.67494140609115
         },
         "domain": {
          "x": [
           0,
           1
          ],
          "y": [
           0,
           1
          ]
         },
         "style": "open-street-map",
         "zoom": 3
        },
        "margin": {
         "b": 0,
         "l": 0,
         "r": 0,
         "t": 0
        },
        "template": {
         "data": {
          "bar": [
           {
            "error_x": {
             "color": "#2a3f5f"
            },
            "error_y": {
             "color": "#2a3f5f"
            },
            "marker": {
             "line": {
              "color": "#E5ECF6",
              "width": 0.5
             }
            },
            "type": "bar"
           }
          ],
          "barpolar": [
           {
            "marker": {
             "line": {
              "color": "#E5ECF6",
              "width": 0.5
             }
            },
            "type": "barpolar"
           }
          ],
          "carpet": [
           {
            "aaxis": {
             "endlinecolor": "#2a3f5f",
             "gridcolor": "white",
             "linecolor": "white",
             "minorgridcolor": "white",
             "startlinecolor": "#2a3f5f"
            },
            "baxis": {
             "endlinecolor": "#2a3f5f",
             "gridcolor": "white",
             "linecolor": "white",
             "minorgridcolor": "white",
             "startlinecolor": "#2a3f5f"
            },
            "type": "carpet"
           }
          ],
          "choropleth": [
           {
            "colorbar": {
             "outlinewidth": 0,
             "ticks": ""
            },
            "type": "choropleth"
           }
          ],
          "contour": [
           {
            "colorbar": {
             "outlinewidth": 0,
             "ticks": ""
            },
            "colorscale": [
             [
              0,
              "#0d0887"
             ],
             [
              0.1111111111111111,
              "#46039f"
             ],
             [
              0.2222222222222222,
              "#7201a8"
             ],
             [
              0.3333333333333333,
              "#9c179e"
             ],
             [
              0.4444444444444444,
              "#bd3786"
             ],
             [
              0.5555555555555556,
              "#d8576b"
             ],
             [
              0.6666666666666666,
              "#ed7953"
             ],
             [
              0.7777777777777778,
              "#fb9f3a"
             ],
             [
              0.8888888888888888,
              "#fdca26"
             ],
             [
              1,
              "#f0f921"
             ]
            ],
            "type": "contour"
           }
          ],
          "contourcarpet": [
           {
            "colorbar": {
             "outlinewidth": 0,
             "ticks": ""
            },
            "type": "contourcarpet"
           }
          ],
          "heatmap": [
           {
            "colorbar": {
             "outlinewidth": 0,
             "ticks": ""
            },
            "colorscale": [
             [
              0,
              "#0d0887"
             ],
             [
              0.1111111111111111,
              "#46039f"
             ],
             [
              0.2222222222222222,
              "#7201a8"
             ],
             [
              0.3333333333333333,
              "#9c179e"
             ],
             [
              0.4444444444444444,
              "#bd3786"
             ],
             [
              0.5555555555555556,
              "#d8576b"
             ],
             [
              0.6666666666666666,
              "#ed7953"
             ],
             [
              0.7777777777777778,
              "#fb9f3a"
             ],
             [
              0.8888888888888888,
              "#fdca26"
             ],
             [
              1,
              "#f0f921"
             ]
            ],
            "type": "heatmap"
           }
          ],
          "heatmapgl": [
           {
            "colorbar": {
             "outlinewidth": 0,
             "ticks": ""
            },
            "colorscale": [
             [
              0,
              "#0d0887"
             ],
             [
              0.1111111111111111,
              "#46039f"
             ],
             [
              0.2222222222222222,
              "#7201a8"
             ],
             [
              0.3333333333333333,
              "#9c179e"
             ],
             [
              0.4444444444444444,
              "#bd3786"
             ],
             [
              0.5555555555555556,
              "#d8576b"
             ],
             [
              0.6666666666666666,
              "#ed7953"
             ],
             [
              0.7777777777777778,
              "#fb9f3a"
             ],
             [
              0.8888888888888888,
              "#fdca26"
             ],
             [
              1,
              "#f0f921"
             ]
            ],
            "type": "heatmapgl"
           }
          ],
          "histogram": [
           {
            "marker": {
             "colorbar": {
              "outlinewidth": 0,
              "ticks": ""
             }
            },
            "type": "histogram"
           }
          ],
          "histogram2d": [
           {
            "colorbar": {
             "outlinewidth": 0,
             "ticks": ""
            },
            "colorscale": [
             [
              0,
              "#0d0887"
             ],
             [
              0.1111111111111111,
              "#46039f"
             ],
             [
              0.2222222222222222,
              "#7201a8"
             ],
             [
              0.3333333333333333,
              "#9c179e"
             ],
             [
              0.4444444444444444,
              "#bd3786"
             ],
             [
              0.5555555555555556,
              "#d8576b"
             ],
             [
              0.6666666666666666,
              "#ed7953"
             ],
             [
              0.7777777777777778,
              "#fb9f3a"
             ],
             [
              0.8888888888888888,
              "#fdca26"
             ],
             [
              1,
              "#f0f921"
             ]
            ],
            "type": "histogram2d"
           }
          ],
          "histogram2dcontour": [
           {
            "colorbar": {
             "outlinewidth": 0,
             "ticks": ""
            },
            "colorscale": [
             [
              0,
              "#0d0887"
             ],
             [
              0.1111111111111111,
              "#46039f"
             ],
             [
              0.2222222222222222,
              "#7201a8"
             ],
             [
              0.3333333333333333,
              "#9c179e"
             ],
             [
              0.4444444444444444,
              "#bd3786"
             ],
             [
              0.5555555555555556,
              "#d8576b"
             ],
             [
              0.6666666666666666,
              "#ed7953"
             ],
             [
              0.7777777777777778,
              "#fb9f3a"
             ],
             [
              0.8888888888888888,
              "#fdca26"
             ],
             [
              1,
              "#f0f921"
             ]
            ],
            "type": "histogram2dcontour"
           }
          ],
          "mesh3d": [
           {
            "colorbar": {
             "outlinewidth": 0,
             "ticks": ""
            },
            "type": "mesh3d"
           }
          ],
          "parcoords": [
           {
            "line": {
             "colorbar": {
              "outlinewidth": 0,
              "ticks": ""
             }
            },
            "type": "parcoords"
           }
          ],
          "pie": [
           {
            "automargin": true,
            "type": "pie"
           }
          ],
          "scatter": [
           {
            "marker": {
             "colorbar": {
              "outlinewidth": 0,
              "ticks": ""
             }
            },
            "type": "scatter"
           }
          ],
          "scatter3d": [
           {
            "line": {
             "colorbar": {
              "outlinewidth": 0,
              "ticks": ""
             }
            },
            "marker": {
             "colorbar": {
              "outlinewidth": 0,
              "ticks": ""
             }
            },
            "type": "scatter3d"
           }
          ],
          "scattercarpet": [
           {
            "marker": {
             "colorbar": {
              "outlinewidth": 0,
              "ticks": ""
             }
            },
            "type": "scattercarpet"
           }
          ],
          "scattergeo": [
           {
            "marker": {
             "colorbar": {
              "outlinewidth": 0,
              "ticks": ""
             }
            },
            "type": "scattergeo"
           }
          ],
          "scattergl": [
           {
            "marker": {
             "colorbar": {
              "outlinewidth": 0,
              "ticks": ""
             }
            },
            "type": "scattergl"
           }
          ],
          "scattermapbox": [
           {
            "marker": {
             "colorbar": {
              "outlinewidth": 0,
              "ticks": ""
             }
            },
            "type": "scattermapbox"
           }
          ],
          "scatterpolar": [
           {
            "marker": {
             "colorbar": {
              "outlinewidth": 0,
              "ticks": ""
             }
            },
            "type": "scatterpolar"
           }
          ],
          "scatterpolargl": [
           {
            "marker": {
             "colorbar": {
              "outlinewidth": 0,
              "ticks": ""
             }
            },
            "type": "scatterpolargl"
           }
          ],
          "scatterternary": [
           {
            "marker": {
             "colorbar": {
              "outlinewidth": 0,
              "ticks": ""
             }
            },
            "type": "scatterternary"
           }
          ],
          "surface": [
           {
            "colorbar": {
             "outlinewidth": 0,
             "ticks": ""
            },
            "colorscale": [
             [
              0,
              "#0d0887"
             ],
             [
              0.1111111111111111,
              "#46039f"
             ],
             [
              0.2222222222222222,
              "#7201a8"
             ],
             [
              0.3333333333333333,
              "#9c179e"
             ],
             [
              0.4444444444444444,
              "#bd3786"
             ],
             [
              0.5555555555555556,
              "#d8576b"
             ],
             [
              0.6666666666666666,
              "#ed7953"
             ],
             [
              0.7777777777777778,
              "#fb9f3a"
             ],
             [
              0.8888888888888888,
              "#fdca26"
             ],
             [
              1,
              "#f0f921"
             ]
            ],
            "type": "surface"
           }
          ],
          "table": [
           {
            "cells": {
             "fill": {
              "color": "#EBF0F8"
             },
             "line": {
              "color": "white"
             }
            },
            "header": {
             "fill": {
              "color": "#C8D4E3"
             },
             "line": {
              "color": "white"
             }
            },
            "type": "table"
           }
          ]
         },
         "layout": {
          "annotationdefaults": {
           "arrowcolor": "#2a3f5f",
           "arrowhead": 0,
           "arrowwidth": 1
          },
          "coloraxis": {
           "colorbar": {
            "outlinewidth": 0,
            "ticks": ""
           }
          },
          "colorscale": {
           "diverging": [
            [
             0,
             "#8e0152"
            ],
            [
             0.1,
             "#c51b7d"
            ],
            [
             0.2,
             "#de77ae"
            ],
            [
             0.3,
             "#f1b6da"
            ],
            [
             0.4,
             "#fde0ef"
            ],
            [
             0.5,
             "#f7f7f7"
            ],
            [
             0.6,
             "#e6f5d0"
            ],
            [
             0.7,
             "#b8e186"
            ],
            [
             0.8,
             "#7fbc41"
            ],
            [
             0.9,
             "#4d9221"
            ],
            [
             1,
             "#276419"
            ]
           ],
           "sequential": [
            [
             0,
             "#0d0887"
            ],
            [
             0.1111111111111111,
             "#46039f"
            ],
            [
             0.2222222222222222,
             "#7201a8"
            ],
            [
             0.3333333333333333,
             "#9c179e"
            ],
            [
             0.4444444444444444,
             "#bd3786"
            ],
            [
             0.5555555555555556,
             "#d8576b"
            ],
            [
             0.6666666666666666,
             "#ed7953"
            ],
            [
             0.7777777777777778,
             "#fb9f3a"
            ],
            [
             0.8888888888888888,
             "#fdca26"
            ],
            [
             1,
             "#f0f921"
            ]
           ],
           "sequentialminus": [
            [
             0,
             "#0d0887"
            ],
            [
             0.1111111111111111,
             "#46039f"
            ],
            [
             0.2222222222222222,
             "#7201a8"
            ],
            [
             0.3333333333333333,
             "#9c179e"
            ],
            [
             0.4444444444444444,
             "#bd3786"
            ],
            [
             0.5555555555555556,
             "#d8576b"
            ],
            [
             0.6666666666666666,
             "#ed7953"
            ],
            [
             0.7777777777777778,
             "#fb9f3a"
            ],
            [
             0.8888888888888888,
             "#fdca26"
            ],
            [
             1,
             "#f0f921"
            ]
           ]
          },
          "colorway": [
           "#636efa",
           "#EF553B",
           "#00cc96",
           "#ab63fa",
           "#FFA15A",
           "#19d3f3",
           "#FF6692",
           "#B6E880",
           "#FF97FF",
           "#FECB52"
          ],
          "font": {
           "color": "#2a3f5f"
          },
          "geo": {
           "bgcolor": "white",
           "lakecolor": "white",
           "landcolor": "#E5ECF6",
           "showlakes": true,
           "showland": true,
           "subunitcolor": "white"
          },
          "hoverlabel": {
           "align": "left"
          },
          "hovermode": "closest",
          "mapbox": {
           "style": "light"
          },
          "paper_bgcolor": "white",
          "plot_bgcolor": "#E5ECF6",
          "polar": {
           "angularaxis": {
            "gridcolor": "white",
            "linecolor": "white",
            "ticks": ""
           },
           "bgcolor": "#E5ECF6",
           "radialaxis": {
            "gridcolor": "white",
            "linecolor": "white",
            "ticks": ""
           }
          },
          "scene": {
           "xaxis": {
            "backgroundcolor": "#E5ECF6",
            "gridcolor": "white",
            "gridwidth": 2,
            "linecolor": "white",
            "showbackground": true,
            "ticks": "",
            "zerolinecolor": "white"
           },
           "yaxis": {
            "backgroundcolor": "#E5ECF6",
            "gridcolor": "white",
            "gridwidth": 2,
            "linecolor": "white",
            "showbackground": true,
            "ticks": "",
            "zerolinecolor": "white"
           },
           "zaxis": {
            "backgroundcolor": "#E5ECF6",
            "gridcolor": "white",
            "gridwidth": 2,
            "linecolor": "white",
            "showbackground": true,
            "ticks": "",
            "zerolinecolor": "white"
           }
          },
          "shapedefaults": {
           "line": {
            "color": "#2a3f5f"
           }
          },
          "ternary": {
           "aaxis": {
            "gridcolor": "white",
            "linecolor": "white",
            "ticks": ""
           },
           "baxis": {
            "gridcolor": "white",
            "linecolor": "white",
            "ticks": ""
           },
           "bgcolor": "#E5ECF6",
           "caxis": {
            "gridcolor": "white",
            "linecolor": "white",
            "ticks": ""
           }
          },
          "title": {
           "x": 0.05
          },
          "xaxis": {
           "automargin": true,
           "gridcolor": "white",
           "linecolor": "white",
           "ticks": "",
           "title": {
            "standoff": 15
           },
           "zerolinecolor": "white",
           "zerolinewidth": 2
          },
          "yaxis": {
           "automargin": true,
           "gridcolor": "white",
           "linecolor": "white",
           "ticks": "",
           "title": {
            "standoff": 15
           },
           "zerolinecolor": "white",
           "zerolinewidth": 2
          }
         }
        }
       }
      },
      "text/html": [
       "<div>                            <div id=\"54b1f2d3-5442-4ccc-b5af-f41b5f47b3e8\" class=\"plotly-graph-div\" style=\"height:500px; width:100%;\"></div>            <script type=\"text/javascript\">                require([\"plotly\"], function(Plotly) {                    window.PLOTLYENV=window.PLOTLYENV || {};                                    if (document.getElementById(\"54b1f2d3-5442-4ccc-b5af-f41b5f47b3e8\")) {                    Plotly.newPlot(                        \"54b1f2d3-5442-4ccc-b5af-f41b5f47b3e8\",                        [{\"hovertemplate\": \"lat=%{lat}<br>lon=%{lon}<extra></extra>\", \"lat\": [38.77574386527391, 33.992026295083605, 37.61221144368681, 33.129150804658, 35.888617784930716], \"legendgroup\": \"\", \"lon\": [-121.5034150180444, -118.09677510679623, -122.04101860885535, -117.08777580825058, -119.64572248850915], \"marker\": {\"color\": \"#636efa\"}, \"mode\": \"markers\", \"name\": \"\", \"showlegend\": false, \"subplot\": \"mapbox\", \"type\": \"scattermapbox\"}],                        {\"height\": 500, \"legend\": {\"tracegroupgap\": 0}, \"mapbox\": {\"center\": {\"lat\": 35.879550038726606, \"lon\": -119.67494140609115}, \"domain\": {\"x\": [0.0, 1.0], \"y\": [0.0, 1.0]}, \"style\": \"open-street-map\", \"zoom\": 3}, \"margin\": {\"b\": 0, \"l\": 0, \"r\": 0, \"t\": 0}, \"template\": {\"data\": {\"bar\": [{\"error_x\": {\"color\": \"#2a3f5f\"}, \"error_y\": {\"color\": \"#2a3f5f\"}, \"marker\": {\"line\": {\"color\": \"#E5ECF6\", \"width\": 0.5}}, \"type\": \"bar\"}], \"barpolar\": [{\"marker\": {\"line\": {\"color\": \"#E5ECF6\", \"width\": 0.5}}, \"type\": \"barpolar\"}], \"carpet\": [{\"aaxis\": {\"endlinecolor\": \"#2a3f5f\", \"gridcolor\": \"white\", \"linecolor\": \"white\", \"minorgridcolor\": \"white\", \"startlinecolor\": \"#2a3f5f\"}, \"baxis\": {\"endlinecolor\": \"#2a3f5f\", \"gridcolor\": \"white\", \"linecolor\": \"white\", \"minorgridcolor\": \"white\", \"startlinecolor\": \"#2a3f5f\"}, \"type\": \"carpet\"}], \"choropleth\": [{\"colorbar\": {\"outlinewidth\": 0, \"ticks\": \"\"}, \"type\": \"choropleth\"}], \"contour\": [{\"colorbar\": {\"outlinewidth\": 0, \"ticks\": \"\"}, \"colorscale\": [[0.0, \"#0d0887\"], [0.1111111111111111, \"#46039f\"], [0.2222222222222222, \"#7201a8\"], [0.3333333333333333, \"#9c179e\"], [0.4444444444444444, \"#bd3786\"], [0.5555555555555556, \"#d8576b\"], [0.6666666666666666, \"#ed7953\"], [0.7777777777777778, \"#fb9f3a\"], [0.8888888888888888, \"#fdca26\"], [1.0, \"#f0f921\"]], \"type\": \"contour\"}], \"contourcarpet\": [{\"colorbar\": {\"outlinewidth\": 0, \"ticks\": \"\"}, \"type\": \"contourcarpet\"}], \"heatmap\": [{\"colorbar\": {\"outlinewidth\": 0, \"ticks\": \"\"}, \"colorscale\": [[0.0, \"#0d0887\"], [0.1111111111111111, \"#46039f\"], [0.2222222222222222, \"#7201a8\"], [0.3333333333333333, \"#9c179e\"], [0.4444444444444444, \"#bd3786\"], [0.5555555555555556, \"#d8576b\"], [0.6666666666666666, \"#ed7953\"], [0.7777777777777778, \"#fb9f3a\"], [0.8888888888888888, \"#fdca26\"], [1.0, \"#f0f921\"]], \"type\": \"heatmap\"}], \"heatmapgl\": [{\"colorbar\": {\"outlinewidth\": 0, \"ticks\": \"\"}, \"colorscale\": [[0.0, \"#0d0887\"], [0.1111111111111111, \"#46039f\"], [0.2222222222222222, \"#7201a8\"], [0.3333333333333333, \"#9c179e\"], [0.4444444444444444, \"#bd3786\"], [0.5555555555555556, \"#d8576b\"], [0.6666666666666666, \"#ed7953\"], [0.7777777777777778, \"#fb9f3a\"], [0.8888888888888888, \"#fdca26\"], [1.0, \"#f0f921\"]], \"type\": \"heatmapgl\"}], \"histogram\": [{\"marker\": {\"colorbar\": {\"outlinewidth\": 0, \"ticks\": \"\"}}, \"type\": \"histogram\"}], \"histogram2d\": [{\"colorbar\": {\"outlinewidth\": 0, \"ticks\": \"\"}, \"colorscale\": [[0.0, \"#0d0887\"], [0.1111111111111111, \"#46039f\"], [0.2222222222222222, \"#7201a8\"], [0.3333333333333333, \"#9c179e\"], [0.4444444444444444, \"#bd3786\"], [0.5555555555555556, \"#d8576b\"], [0.6666666666666666, \"#ed7953\"], [0.7777777777777778, \"#fb9f3a\"], [0.8888888888888888, \"#fdca26\"], [1.0, \"#f0f921\"]], \"type\": \"histogram2d\"}], \"histogram2dcontour\": [{\"colorbar\": {\"outlinewidth\": 0, \"ticks\": \"\"}, \"colorscale\": [[0.0, \"#0d0887\"], [0.1111111111111111, \"#46039f\"], [0.2222222222222222, \"#7201a8\"], [0.3333333333333333, \"#9c179e\"], [0.4444444444444444, \"#bd3786\"], [0.5555555555555556, \"#d8576b\"], [0.6666666666666666, \"#ed7953\"], [0.7777777777777778, \"#fb9f3a\"], [0.8888888888888888, \"#fdca26\"], [1.0, \"#f0f921\"]], \"type\": \"histogram2dcontour\"}], \"mesh3d\": [{\"colorbar\": {\"outlinewidth\": 0, \"ticks\": \"\"}, \"type\": \"mesh3d\"}], \"parcoords\": [{\"line\": {\"colorbar\": {\"outlinewidth\": 0, \"ticks\": \"\"}}, \"type\": \"parcoords\"}], \"pie\": [{\"automargin\": true, \"type\": \"pie\"}], \"scatter\": [{\"marker\": {\"colorbar\": {\"outlinewidth\": 0, \"ticks\": \"\"}}, \"type\": \"scatter\"}], \"scatter3d\": [{\"line\": {\"colorbar\": {\"outlinewidth\": 0, \"ticks\": \"\"}}, \"marker\": {\"colorbar\": {\"outlinewidth\": 0, \"ticks\": \"\"}}, \"type\": \"scatter3d\"}], \"scattercarpet\": [{\"marker\": {\"colorbar\": {\"outlinewidth\": 0, \"ticks\": \"\"}}, \"type\": \"scattercarpet\"}], \"scattergeo\": [{\"marker\": {\"colorbar\": {\"outlinewidth\": 0, \"ticks\": \"\"}}, \"type\": \"scattergeo\"}], \"scattergl\": [{\"marker\": {\"colorbar\": {\"outlinewidth\": 0, \"ticks\": \"\"}}, \"type\": \"scattergl\"}], \"scattermapbox\": [{\"marker\": {\"colorbar\": {\"outlinewidth\": 0, \"ticks\": \"\"}}, \"type\": \"scattermapbox\"}], \"scatterpolar\": [{\"marker\": {\"colorbar\": {\"outlinewidth\": 0, \"ticks\": \"\"}}, \"type\": \"scatterpolar\"}], \"scatterpolargl\": [{\"marker\": {\"colorbar\": {\"outlinewidth\": 0, \"ticks\": \"\"}}, \"type\": \"scatterpolargl\"}], \"scatterternary\": [{\"marker\": {\"colorbar\": {\"outlinewidth\": 0, \"ticks\": \"\"}}, \"type\": \"scatterternary\"}], \"surface\": [{\"colorbar\": {\"outlinewidth\": 0, \"ticks\": \"\"}, \"colorscale\": [[0.0, \"#0d0887\"], [0.1111111111111111, \"#46039f\"], [0.2222222222222222, \"#7201a8\"], [0.3333333333333333, \"#9c179e\"], [0.4444444444444444, \"#bd3786\"], [0.5555555555555556, \"#d8576b\"], [0.6666666666666666, \"#ed7953\"], [0.7777777777777778, \"#fb9f3a\"], [0.8888888888888888, \"#fdca26\"], [1.0, \"#f0f921\"]], \"type\": \"surface\"}], \"table\": [{\"cells\": {\"fill\": {\"color\": \"#EBF0F8\"}, \"line\": {\"color\": \"white\"}}, \"header\": {\"fill\": {\"color\": \"#C8D4E3\"}, \"line\": {\"color\": \"white\"}}, \"type\": \"table\"}]}, \"layout\": {\"annotationdefaults\": {\"arrowcolor\": \"#2a3f5f\", \"arrowhead\": 0, \"arrowwidth\": 1}, \"coloraxis\": {\"colorbar\": {\"outlinewidth\": 0, \"ticks\": \"\"}}, \"colorscale\": {\"diverging\": [[0, \"#8e0152\"], [0.1, \"#c51b7d\"], [0.2, \"#de77ae\"], [0.3, \"#f1b6da\"], [0.4, \"#fde0ef\"], [0.5, \"#f7f7f7\"], [0.6, \"#e6f5d0\"], [0.7, \"#b8e186\"], [0.8, \"#7fbc41\"], [0.9, \"#4d9221\"], [1, \"#276419\"]], \"sequential\": [[0.0, \"#0d0887\"], [0.1111111111111111, \"#46039f\"], [0.2222222222222222, \"#7201a8\"], [0.3333333333333333, \"#9c179e\"], [0.4444444444444444, \"#bd3786\"], [0.5555555555555556, \"#d8576b\"], [0.6666666666666666, \"#ed7953\"], [0.7777777777777778, \"#fb9f3a\"], [0.8888888888888888, \"#fdca26\"], [1.0, \"#f0f921\"]], \"sequentialminus\": [[0.0, \"#0d0887\"], [0.1111111111111111, \"#46039f\"], [0.2222222222222222, \"#7201a8\"], [0.3333333333333333, \"#9c179e\"], [0.4444444444444444, \"#bd3786\"], [0.5555555555555556, \"#d8576b\"], [0.6666666666666666, \"#ed7953\"], [0.7777777777777778, \"#fb9f3a\"], [0.8888888888888888, \"#fdca26\"], [1.0, \"#f0f921\"]]}, \"colorway\": [\"#636efa\", \"#EF553B\", \"#00cc96\", \"#ab63fa\", \"#FFA15A\", \"#19d3f3\", \"#FF6692\", \"#B6E880\", \"#FF97FF\", \"#FECB52\"], \"font\": {\"color\": \"#2a3f5f\"}, \"geo\": {\"bgcolor\": \"white\", \"lakecolor\": \"white\", \"landcolor\": \"#E5ECF6\", \"showlakes\": true, \"showland\": true, \"subunitcolor\": \"white\"}, \"hoverlabel\": {\"align\": \"left\"}, \"hovermode\": \"closest\", \"mapbox\": {\"style\": \"light\"}, \"paper_bgcolor\": \"white\", \"plot_bgcolor\": \"#E5ECF6\", \"polar\": {\"angularaxis\": {\"gridcolor\": \"white\", \"linecolor\": \"white\", \"ticks\": \"\"}, \"bgcolor\": \"#E5ECF6\", \"radialaxis\": {\"gridcolor\": \"white\", \"linecolor\": \"white\", \"ticks\": \"\"}}, \"scene\": {\"xaxis\": {\"backgroundcolor\": \"#E5ECF6\", \"gridcolor\": \"white\", \"gridwidth\": 2, \"linecolor\": \"white\", \"showbackground\": true, \"ticks\": \"\", \"zerolinecolor\": \"white\"}, \"yaxis\": {\"backgroundcolor\": \"#E5ECF6\", \"gridcolor\": \"white\", \"gridwidth\": 2, \"linecolor\": \"white\", \"showbackground\": true, \"ticks\": \"\", \"zerolinecolor\": \"white\"}, \"zaxis\": {\"backgroundcolor\": \"#E5ECF6\", \"gridcolor\": \"white\", \"gridwidth\": 2, \"linecolor\": \"white\", \"showbackground\": true, \"ticks\": \"\", \"zerolinecolor\": \"white\"}}, \"shapedefaults\": {\"line\": {\"color\": \"#2a3f5f\"}}, \"ternary\": {\"aaxis\": {\"gridcolor\": \"white\", \"linecolor\": \"white\", \"ticks\": \"\"}, \"baxis\": {\"gridcolor\": \"white\", \"linecolor\": \"white\", \"ticks\": \"\"}, \"bgcolor\": \"#E5ECF6\", \"caxis\": {\"gridcolor\": \"white\", \"linecolor\": \"white\", \"ticks\": \"\"}}, \"title\": {\"x\": 0.05}, \"xaxis\": {\"automargin\": true, \"gridcolor\": \"white\", \"linecolor\": \"white\", \"ticks\": \"\", \"title\": {\"standoff\": 15}, \"zerolinecolor\": \"white\", \"zerolinewidth\": 2}, \"yaxis\": {\"automargin\": true, \"gridcolor\": \"white\", \"linecolor\": \"white\", \"ticks\": \"\", \"title\": {\"standoff\": 15}, \"zerolinecolor\": \"white\", \"zerolinewidth\": 2}}}},                        {\"responsive\": true}                    ).then(function(){\n",
       "                            \n",
       "var gd = document.getElementById('54b1f2d3-5442-4ccc-b5af-f41b5f47b3e8');\n",
       "var x = new MutationObserver(function (mutations, observer) {{\n",
       "        var display = window.getComputedStyle(gd).display;\n",
       "        if (!display || display === 'none') {{\n",
       "            console.log([gd, 'removed!']);\n",
       "            Plotly.purge(gd);\n",
       "            observer.disconnect();\n",
       "        }}\n",
       "}});\n",
       "\n",
       "// Listen for the removal of the full notebook cells\n",
       "var notebookContainer = gd.closest('#notebook-container');\n",
       "if (notebookContainer) {{\n",
       "    x.observe(notebookContainer, {childList: true});\n",
       "}}\n",
       "\n",
       "// Listen for the clearing of the current output cell\n",
       "var outputEl = gd.closest('.output');\n",
       "if (outputEl) {{\n",
       "    x.observe(outputEl, {childList: true});\n",
       "}}\n",
       "\n",
       "                        })                };                });            </script>        </div>"
      ]
     },
     "metadata": {},
     "output_type": "display_data"
    }
   ],
   "source": [
    "fig_px = px.scatter_mapbox(df_cluster, lat=\"lat\", lon=\"lon\", size_max=20,zoom=3, height=500)\n",
    "\n",
    "fig_px.update_layout(mapbox_style=\"open-street-map\",margin={\"r\":0,\"t\":0,\"l\":0,\"b\":0})\n",
    "\n",
    "fig_px.show()"
   ]
  },
  {
   "cell_type": "code",
   "execution_count": 18,
   "metadata": {},
   "outputs": [],
   "source": [
    "fig_px.write_html(\"chipotle_locations_ca.html\")"
   ]
  }
 ],
 "metadata": {
  "kernelspec": {
   "display_name": "Python 3",
   "language": "python",
   "name": "python3"
  },
  "language_info": {
   "codemirror_mode": {
    "name": "ipython",
    "version": 3
   },
   "file_extension": ".py",
   "mimetype": "text/x-python",
   "name": "python",
   "nbconvert_exporter": "python",
   "pygments_lexer": "ipython3",
   "version": "3.8.3"
  }
 },
 "nbformat": 4,
 "nbformat_minor": 4
}
